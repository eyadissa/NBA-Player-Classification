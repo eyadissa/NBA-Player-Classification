{
 "cells": [
  {
   "cell_type": "code",
   "outputs": [],
   "source": [
    "import pandas as pd\n",
    "import numpy as np"
   ],
   "metadata": {
    "collapsed": false,
    "ExecuteTime": {
     "end_time": "2024-03-10T19:59:11.846100Z",
     "start_time": "2024-03-10T19:59:11.835132Z"
    }
   },
   "id": "44b52b2e1370963e",
   "execution_count": 61
  },
  {
   "cell_type": "code",
   "execution_count": 63,
   "id": "initial_id",
   "metadata": {
    "collapsed": true,
    "ExecuteTime": {
     "end_time": "2024-03-10T20:06:17.205207Z",
     "start_time": "2024-03-10T20:06:17.102358Z"
    }
   },
   "outputs": [],
   "source": [
    "\n",
    "df_manip = pd.read_csv('data_manipulated.csv')\n",
    "df_comp = pd.read_csv('2018_2023_test.csv')"
   ]
  },
  {
   "cell_type": "code",
   "outputs": [],
   "source": [
    "df_new = pd.read_csv('nba_players_compiled_stats_2018_2024.csv')"
   ],
   "metadata": {
    "collapsed": false,
    "ExecuteTime": {
     "end_time": "2024-03-10T19:19:24.164064Z",
     "start_time": "2024-03-10T19:19:24.043381Z"
    }
   },
   "id": "fba49c0046fdcd67",
   "execution_count": 24
  },
  {
   "cell_type": "code",
   "outputs": [
    {
     "name": "stdout",
     "output_type": "stream",
     "text": [
      "86\n",
      "114\n",
      "274\n"
     ]
    }
   ],
   "source": [
    "\n",
    "print(len(df_manip.columns))\n",
    "print(len(df_comp.columns))\n",
    "print(len(df_new.columns))"
   ],
   "metadata": {
    "collapsed": false,
    "ExecuteTime": {
     "end_time": "2024-03-10T20:06:23.921560Z",
     "start_time": "2024-03-10T20:06:23.901350Z"
    }
   },
   "id": "31107667372c2611",
   "execution_count": 64
  },
  {
   "cell_type": "code",
   "outputs": [
    {
     "ename": "ValueError",
     "evalue": "Can only compare identically-labeled DataFrame objects",
     "output_type": "error",
     "traceback": [
      "\u001B[1;31m---------------------------------------------------------------------------\u001B[0m",
      "\u001B[1;31mValueError\u001B[0m                                Traceback (most recent call last)",
      "Cell \u001B[1;32mIn[32], line 1\u001B[0m\n\u001B[1;32m----> 1\u001B[0m mask_manip \u001B[38;5;241m=\u001B[39m \u001B[43mdf_manip\u001B[49m\u001B[43m \u001B[49m\u001B[38;5;241;43m!=\u001B[39;49m\u001B[43m \u001B[49m\u001B[43mdf_comp\u001B[49m\u001B[38;5;241;43m.\u001B[39;49m\u001B[43miloc\u001B[49m\u001B[43m[\u001B[49m\u001B[43m:\u001B[49m\u001B[43m,\u001B[49m\u001B[43m:\u001B[49m\u001B[38;5;241;43m86\u001B[39;49m\u001B[43m]\u001B[49m\n",
      "File \u001B[1;32m~\\anaconda3\\lib\\site-packages\\pandas\\core\\ops\\common.py:72\u001B[0m, in \u001B[0;36m_unpack_zerodim_and_defer.<locals>.new_method\u001B[1;34m(self, other)\u001B[0m\n\u001B[0;32m     68\u001B[0m             \u001B[38;5;28;01mreturn\u001B[39;00m \u001B[38;5;28mNotImplemented\u001B[39m\n\u001B[0;32m     70\u001B[0m other \u001B[38;5;241m=\u001B[39m item_from_zerodim(other)\n\u001B[1;32m---> 72\u001B[0m \u001B[38;5;28;01mreturn\u001B[39;00m \u001B[43mmethod\u001B[49m\u001B[43m(\u001B[49m\u001B[38;5;28;43mself\u001B[39;49m\u001B[43m,\u001B[49m\u001B[43m \u001B[49m\u001B[43mother\u001B[49m\u001B[43m)\u001B[49m\n",
      "File \u001B[1;32m~\\anaconda3\\lib\\site-packages\\pandas\\core\\arraylike.py:46\u001B[0m, in \u001B[0;36mOpsMixin.__ne__\u001B[1;34m(self, other)\u001B[0m\n\u001B[0;32m     44\u001B[0m \u001B[38;5;129m@unpack_zerodim_and_defer\u001B[39m(\u001B[38;5;124m\"\u001B[39m\u001B[38;5;124m__ne__\u001B[39m\u001B[38;5;124m\"\u001B[39m)\n\u001B[0;32m     45\u001B[0m \u001B[38;5;28;01mdef\u001B[39;00m \u001B[38;5;21m__ne__\u001B[39m(\u001B[38;5;28mself\u001B[39m, other):\n\u001B[1;32m---> 46\u001B[0m     \u001B[38;5;28;01mreturn\u001B[39;00m \u001B[38;5;28;43mself\u001B[39;49m\u001B[38;5;241;43m.\u001B[39;49m\u001B[43m_cmp_method\u001B[49m\u001B[43m(\u001B[49m\u001B[43mother\u001B[49m\u001B[43m,\u001B[49m\u001B[43m \u001B[49m\u001B[43moperator\u001B[49m\u001B[38;5;241;43m.\u001B[39;49m\u001B[43mne\u001B[49m\u001B[43m)\u001B[49m\n",
      "File \u001B[1;32m~\\anaconda3\\lib\\site-packages\\pandas\\core\\frame.py:7579\u001B[0m, in \u001B[0;36mDataFrame._cmp_method\u001B[1;34m(self, other, op)\u001B[0m\n\u001B[0;32m   7576\u001B[0m \u001B[38;5;28;01mdef\u001B[39;00m \u001B[38;5;21m_cmp_method\u001B[39m(\u001B[38;5;28mself\u001B[39m, other, op):\n\u001B[0;32m   7577\u001B[0m     axis \u001B[38;5;241m=\u001B[39m \u001B[38;5;241m1\u001B[39m  \u001B[38;5;66;03m# only relevant for Series other case\u001B[39;00m\n\u001B[1;32m-> 7579\u001B[0m     \u001B[38;5;28mself\u001B[39m, other \u001B[38;5;241m=\u001B[39m \u001B[43mops\u001B[49m\u001B[38;5;241;43m.\u001B[39;49m\u001B[43malign_method_FRAME\u001B[49m\u001B[43m(\u001B[49m\u001B[38;5;28;43mself\u001B[39;49m\u001B[43m,\u001B[49m\u001B[43m \u001B[49m\u001B[43mother\u001B[49m\u001B[43m,\u001B[49m\u001B[43m \u001B[49m\u001B[43maxis\u001B[49m\u001B[43m,\u001B[49m\u001B[43m \u001B[49m\u001B[43mflex\u001B[49m\u001B[38;5;241;43m=\u001B[39;49m\u001B[38;5;28;43;01mFalse\u001B[39;49;00m\u001B[43m,\u001B[49m\u001B[43m \u001B[49m\u001B[43mlevel\u001B[49m\u001B[38;5;241;43m=\u001B[39;49m\u001B[38;5;28;43;01mNone\u001B[39;49;00m\u001B[43m)\u001B[49m\n\u001B[0;32m   7581\u001B[0m     \u001B[38;5;66;03m# See GH#4537 for discussion of scalar op behavior\u001B[39;00m\n\u001B[0;32m   7582\u001B[0m     new_data \u001B[38;5;241m=\u001B[39m \u001B[38;5;28mself\u001B[39m\u001B[38;5;241m.\u001B[39m_dispatch_frame_op(other, op, axis\u001B[38;5;241m=\u001B[39maxis)\n",
      "File \u001B[1;32m~\\anaconda3\\lib\\site-packages\\pandas\\core\\ops\\__init__.py:289\u001B[0m, in \u001B[0;36malign_method_FRAME\u001B[1;34m(left, right, axis, flex, level)\u001B[0m\n\u001B[0;32m    287\u001B[0m             left, right \u001B[38;5;241m=\u001B[39m left\u001B[38;5;241m.\u001B[39malign(right, join\u001B[38;5;241m=\u001B[39m\u001B[38;5;124m\"\u001B[39m\u001B[38;5;124mouter\u001B[39m\u001B[38;5;124m\"\u001B[39m, level\u001B[38;5;241m=\u001B[39mlevel, copy\u001B[38;5;241m=\u001B[39m\u001B[38;5;28;01mFalse\u001B[39;00m)\n\u001B[0;32m    288\u001B[0m         \u001B[38;5;28;01melse\u001B[39;00m:\n\u001B[1;32m--> 289\u001B[0m             \u001B[38;5;28;01mraise\u001B[39;00m \u001B[38;5;167;01mValueError\u001B[39;00m(\n\u001B[0;32m    290\u001B[0m                 \u001B[38;5;124m\"\u001B[39m\u001B[38;5;124mCan only compare identically-labeled DataFrame objects\u001B[39m\u001B[38;5;124m\"\u001B[39m\n\u001B[0;32m    291\u001B[0m             )\n\u001B[0;32m    292\u001B[0m \u001B[38;5;28;01melif\u001B[39;00m \u001B[38;5;28misinstance\u001B[39m(right, ABCSeries):\n\u001B[0;32m    293\u001B[0m     \u001B[38;5;66;03m# axis=1 is default for DataFrame-with-Series op\u001B[39;00m\n\u001B[0;32m    294\u001B[0m     axis \u001B[38;5;241m=\u001B[39m left\u001B[38;5;241m.\u001B[39m_get_axis_number(axis) \u001B[38;5;28;01mif\u001B[39;00m axis \u001B[38;5;129;01mis\u001B[39;00m \u001B[38;5;129;01mnot\u001B[39;00m \u001B[38;5;28;01mNone\u001B[39;00m \u001B[38;5;28;01melse\u001B[39;00m \u001B[38;5;241m1\u001B[39m\n",
      "\u001B[1;31mValueError\u001B[0m: Can only compare identically-labeled DataFrame objects"
     ]
    }
   ],
   "source": [
    "mask_manip = df_manip != df_comp.iloc[:,:86]"
   ],
   "metadata": {
    "collapsed": false,
    "ExecuteTime": {
     "end_time": "2024-03-10T19:25:17.750932Z",
     "start_time": "2024-03-10T19:25:16.465335Z"
    }
   },
   "id": "940f47a40074533",
   "execution_count": 32
  },
  {
   "cell_type": "code",
   "outputs": [],
   "source": [
    "common_columns = df_comp.columns.intersection(df_manip.columns)\n",
    "common_comp = df_comp[common_columns]"
   ],
   "metadata": {
    "collapsed": false,
    "ExecuteTime": {
     "end_time": "2024-03-10T19:36:03.883838Z",
     "start_time": "2024-03-10T19:36:03.863872Z"
    }
   },
   "id": "485e9e2f7e36dea3",
   "execution_count": 45
  },
  {
   "cell_type": "code",
   "outputs": [
    {
     "data": {
      "text/plain": "             compiled               manip\n0           PLAYER_ID                 AGE\n1         PLAYER_NAME                 AST\n2   TEAM_ABBREVIATION             AST_PCT\n3                 AGE           AST_RATIO\n4                  GP              AST_TO\n..                ...                 ...\n81            EFG_PCT                 TOV\n82             TS_PCT  TOV_per_possession\n83          E_USG_PCT          TOV_totals\n84             E_PACE              TS_PCT\n85                PIE               W_PCT\n\n[86 rows x 2 columns]",
      "text/html": "<div>\n<style scoped>\n    .dataframe tbody tr th:only-of-type {\n        vertical-align: middle;\n    }\n\n    .dataframe tbody tr th {\n        vertical-align: top;\n    }\n\n    .dataframe thead th {\n        text-align: right;\n    }\n</style>\n<table border=\"1\" class=\"dataframe\">\n  <thead>\n    <tr style=\"text-align: right;\">\n      <th></th>\n      <th>compiled</th>\n      <th>manip</th>\n    </tr>\n  </thead>\n  <tbody>\n    <tr>\n      <th>0</th>\n      <td>PLAYER_ID</td>\n      <td>AGE</td>\n    </tr>\n    <tr>\n      <th>1</th>\n      <td>PLAYER_NAME</td>\n      <td>AST</td>\n    </tr>\n    <tr>\n      <th>2</th>\n      <td>TEAM_ABBREVIATION</td>\n      <td>AST_PCT</td>\n    </tr>\n    <tr>\n      <th>3</th>\n      <td>AGE</td>\n      <td>AST_RATIO</td>\n    </tr>\n    <tr>\n      <th>4</th>\n      <td>GP</td>\n      <td>AST_TO</td>\n    </tr>\n    <tr>\n      <th>...</th>\n      <td>...</td>\n      <td>...</td>\n    </tr>\n    <tr>\n      <th>81</th>\n      <td>EFG_PCT</td>\n      <td>TOV</td>\n    </tr>\n    <tr>\n      <th>82</th>\n      <td>TS_PCT</td>\n      <td>TOV_per_possession</td>\n    </tr>\n    <tr>\n      <th>83</th>\n      <td>E_USG_PCT</td>\n      <td>TOV_totals</td>\n    </tr>\n    <tr>\n      <th>84</th>\n      <td>E_PACE</td>\n      <td>TS_PCT</td>\n    </tr>\n    <tr>\n      <th>85</th>\n      <td>PIE</td>\n      <td>W_PCT</td>\n    </tr>\n  </tbody>\n</table>\n<p>86 rows × 2 columns</p>\n</div>"
     },
     "execution_count": 57,
     "metadata": {},
     "output_type": "execute_result"
    }
   ],
   "source": [
    "len(set(common_comp))\n",
    "df_manip=df_manip.reindex(sorted(common_comp.columns), axis =1)\n",
    "new_df = pd.DataFrame({'compiled': common_comp.columns, 'manip': df_manip.reindex(sorted(common_comp.columns), axis =1).columns})\n",
    "set(common_comp.columns) == set(df_manip.columns)\n",
    "new_df"
   ],
   "metadata": {
    "collapsed": false,
    "ExecuteTime": {
     "end_time": "2024-03-10T19:51:40.777443Z",
     "start_time": "2024-03-10T19:51:40.759459Z"
    }
   },
   "id": "969bf118df898dd9",
   "execution_count": 57
  },
  {
   "cell_type": "code",
   "outputs": [
    {
     "data": {
      "text/plain": "False"
     },
     "execution_count": 62,
     "metadata": {},
     "output_type": "execute_result"
    }
   ],
   "source": [
    "re_df_comp = df_comp[common_columns].reindex(sorted(common_columns), axis=1)\n",
    "re_df_manip = df_manip[common_columns].reindex(sorted(common_columns), axis=1)\n",
    "# DIDNT WORK: are_equal = (re_df_manip == re_df_comp).all().all()\n",
    "arr_comp = re_df_comp.to_numpy()\n",
    "arr_manip = re_df_manip.to_numpy()\n",
    "np.array_equal(arr_comp, arr_manip)"
   ],
   "metadata": {
    "collapsed": false,
    "ExecuteTime": {
     "end_time": "2024-03-10T19:59:15.757712Z",
     "start_time": "2024-03-10T19:59:15.699870Z"
    }
   },
   "id": "6f487091e90f18a0",
   "execution_count": 62
  },
  {
   "cell_type": "code",
   "outputs": [],
   "source": [],
   "metadata": {
    "collapsed": false
   },
   "id": "c1981c4d231413c6"
  },
  {
   "cell_type": "code",
   "outputs": [
    {
     "data": {
      "text/plain": "{'AGE_advanced',\n 'AGE_per_possession',\n 'AGE_totals',\n 'AST_PCT_RANK',\n 'AST_RANK',\n 'AST_RANK_per_possession',\n 'AST_RANK_totals',\n 'AST_RATIO_RANK',\n 'AST_TO_RANK',\n 'BLKA_RANK',\n 'BLKA_RANK_per_possession',\n 'BLKA_RANK_totals',\n 'BLK_RANK',\n 'BLK_RANK_per_possession',\n 'BLK_RANK_totals',\n 'DD2_RANK',\n 'DD2_RANK_per_possession',\n 'DD2_RANK_totals',\n 'DD2_per_possession',\n 'DD2_totals',\n 'DEF_RATING',\n 'DEF_RATING_RANK',\n 'DREB_PCT_RANK',\n 'DREB_RANK',\n 'DREB_RANK_per_possession',\n 'DREB_RANK_totals',\n 'EFG_PCT_RANK',\n 'E_DEF_RATING',\n 'E_DEF_RATING_RANK',\n 'E_NET_RATING',\n 'E_NET_RATING_RANK',\n 'E_OFF_RATING',\n 'E_OFF_RATING_RANK',\n 'E_PACE_RANK',\n 'E_TOV_PCT_RANK',\n 'E_USG_PCT_RANK',\n 'FG3A_RANK',\n 'FG3A_RANK_per_possession',\n 'FG3A_RANK_totals',\n 'FG3M_RANK',\n 'FG3M_RANK_per_possession',\n 'FG3M_RANK_totals',\n 'FG3_PCT_RANK',\n 'FG3_PCT_RANK_per_possession',\n 'FG3_PCT_RANK_totals',\n 'FGA_PG',\n 'FGA_PG_RANK',\n 'FGA_RANK',\n 'FGA_RANK_advanced',\n 'FGA_RANK_per_possession',\n 'FGA_RANK_totals',\n 'FGA_advanced',\n 'FGM_PG',\n 'FGM_PG_RANK',\n 'FGM_RANK',\n 'FGM_RANK_advanced',\n 'FGM_RANK_per_possession',\n 'FGM_RANK_totals',\n 'FGM_advanced',\n 'FG_PCT_RANK',\n 'FG_PCT_RANK_advanced',\n 'FG_PCT_RANK_per_possession',\n 'FG_PCT_RANK_totals',\n 'FG_PCT_advanced',\n 'FTA_RANK',\n 'FTA_RANK_per_possession',\n 'FTA_RANK_totals',\n 'FTM_RANK',\n 'FTM_RANK_per_possession',\n 'FTM_RANK_totals',\n 'FT_PCT_RANK',\n 'FT_PCT_RANK_per_possession',\n 'FT_PCT_RANK_totals',\n 'GP_RANK',\n 'GP_RANK_advanced',\n 'GP_RANK_per_possession',\n 'GP_RANK_totals',\n 'GP_advanced',\n 'GP_per_possession',\n 'GP_totals',\n 'L',\n 'L_RANK',\n 'L_RANK_advanced',\n 'L_RANK_per_possession',\n 'L_RANK_totals',\n 'L_advanced',\n 'L_per_possession',\n 'L_totals',\n 'MIN_RANK',\n 'MIN_RANK_advanced',\n 'MIN_RANK_per_possession',\n 'MIN_RANK_totals',\n 'MIN_advanced',\n 'MIN_per_possession',\n 'NBA_FANTASY_PTS',\n 'NBA_FANTASY_PTS_RANK',\n 'NBA_FANTASY_PTS_RANK_per_possession',\n 'NBA_FANTASY_PTS_RANK_totals',\n 'NBA_FANTASY_PTS_per_possession',\n 'NBA_FANTASY_PTS_totals',\n 'NET_RATING',\n 'NET_RATING_RANK',\n 'NICKNAME',\n 'NICKNAME_advanced',\n 'NICKNAME_per_possession',\n 'NICKNAME_totals',\n 'OFF_RATING',\n 'OFF_RATING_RANK',\n 'OREB_PCT_RANK',\n 'OREB_RANK',\n 'OREB_RANK_per_possession',\n 'OREB_RANK_totals',\n 'PACE',\n 'PACE_PER40',\n 'PACE_RANK',\n 'PFD_RANK',\n 'PFD_RANK_per_possession',\n 'PFD_RANK_totals',\n 'PF_RANK',\n 'PF_RANK_per_possession',\n 'PF_RANK_totals',\n 'PIE_RANK',\n 'PLAYER_NAME_advanced',\n 'PLAYER_NAME_per_possession',\n 'PLAYER_NAME_totals',\n 'PLUS_MINUS_RANK',\n 'PLUS_MINUS_RANK_per_possession',\n 'PLUS_MINUS_RANK_totals',\n 'POSS',\n 'PTS_RANK',\n 'PTS_RANK_per_possession',\n 'PTS_RANK_totals',\n 'REB_PCT_RANK',\n 'REB_RANK',\n 'REB_RANK_per_possession',\n 'REB_RANK_totals',\n 'STL_RANK',\n 'STL_RANK_per_possession',\n 'STL_RANK_totals',\n 'TD3_RANK',\n 'TD3_RANK_per_possession',\n 'TD3_RANK_totals',\n 'TD3_per_possession',\n 'TD3_totals',\n 'TEAM_ABBREVIATION_advanced',\n 'TEAM_ABBREVIATION_per_possession',\n 'TEAM_ABBREVIATION_totals',\n 'TEAM_ID',\n 'TEAM_ID_advanced',\n 'TEAM_ID_per_possession',\n 'TEAM_ID_totals',\n 'TM_TOV_PCT',\n 'TM_TOV_PCT_RANK',\n 'TOV_RANK',\n 'TOV_RANK_per_possession',\n 'TOV_RANK_totals',\n 'TS_PCT_RANK',\n 'USG_PCT',\n 'USG_PCT_RANK',\n 'W',\n 'WNBA_FANTASY_PTS',\n 'WNBA_FANTASY_PTS_RANK',\n 'WNBA_FANTASY_PTS_RANK_per_possession',\n 'WNBA_FANTASY_PTS_RANK_totals',\n 'WNBA_FANTASY_PTS_per_possession',\n 'WNBA_FANTASY_PTS_totals',\n 'W_PCT_RANK',\n 'W_PCT_RANK_advanced',\n 'W_PCT_RANK_per_possession',\n 'W_PCT_RANK_totals',\n 'W_PCT_advanced',\n 'W_PCT_per_possession',\n 'W_PCT_totals',\n 'W_RANK',\n 'W_RANK_advanced',\n 'W_RANK_per_possession',\n 'W_RANK_totals',\n 'W_advanced',\n 'W_per_possession',\n 'W_totals',\n 'sp_work_DEF_RATING',\n 'sp_work_DEF_RATING_RANK',\n 'sp_work_NET_RATING',\n 'sp_work_NET_RATING_RANK',\n 'sp_work_OFF_RATING',\n 'sp_work_OFF_RATING_RANK',\n 'sp_work_PACE',\n 'sp_work_PACE_RANK'}"
     },
     "execution_count": 56,
     "metadata": {},
     "output_type": "execute_result"
    }
   ],
   "source": [
    "set(df_comp.columns) - set(df_manip.columns)"
   ],
   "metadata": {
    "collapsed": false,
    "ExecuteTime": {
     "end_time": "2024-03-10T19:50:41.414996Z",
     "start_time": "2024-03-10T19:50:41.392024Z"
    }
   },
   "id": "ed84ead7812cfe05",
   "execution_count": 56
  },
  {
   "cell_type": "code",
   "outputs": [
    {
     "data": {
      "text/plain": "set()"
     },
     "execution_count": 20,
     "metadata": {},
     "output_type": "execute_result"
    }
   ],
   "source": [
    "set(df_manip.columns) - set(df_comp.columns)"
   ],
   "metadata": {
    "collapsed": false,
    "ExecuteTime": {
     "end_time": "2024-03-10T19:04:46.547648Z",
     "start_time": "2024-03-10T19:04:46.533684Z"
    }
   },
   "id": "80ac84d891c3efba",
   "execution_count": 20
  },
  {
   "cell_type": "code",
   "outputs": [
    {
     "data": {
      "text/plain": "{'AGE',\n 'AST',\n 'AST_PCT',\n 'AST_RATIO',\n 'AST_TO',\n 'AST_per_possession',\n 'AST_totals',\n 'BLK',\n 'BLKA',\n 'BLKA_per_possession',\n 'BLKA_totals',\n 'BLK_per_possession',\n 'BLK_totals',\n 'DD2',\n 'DREB',\n 'DREB_PCT',\n 'DREB_per_possession',\n 'DREB_totals',\n 'EFG_PCT',\n 'E_PACE',\n 'E_TOV_PCT',\n 'E_USG_PCT',\n 'FG3A',\n 'FG3A_per_possession',\n 'FG3A_totals',\n 'FG3M',\n 'FG3M_per_possession',\n 'FG3M_totals',\n 'FG3_PCT',\n 'FG3_PCT_per_possession',\n 'FG3_PCT_totals',\n 'FGA',\n 'FGA_per_possession',\n 'FGA_totals',\n 'FGM',\n 'FGM_per_possession',\n 'FGM_totals',\n 'FG_PCT',\n 'FG_PCT_per_possession',\n 'FG_PCT_totals',\n 'FTA',\n 'FTA_per_possession',\n 'FTA_totals',\n 'FTM',\n 'FTM_per_possession',\n 'FTM_totals',\n 'FT_PCT',\n 'FT_PCT_per_possession',\n 'FT_PCT_totals',\n 'GP',\n 'MIN',\n 'MIN_totals',\n 'OREB',\n 'OREB_PCT',\n 'OREB_per_possession',\n 'OREB_totals',\n 'PF',\n 'PFD',\n 'PFD_per_possession',\n 'PFD_totals',\n 'PF_per_possession',\n 'PF_totals',\n 'PIE',\n 'PLAYER_ID',\n 'PLAYER_NAME',\n 'PLUS_MINUS',\n 'PLUS_MINUS_per_possession',\n 'PLUS_MINUS_totals',\n 'PTS',\n 'PTS_per_possession',\n 'PTS_totals',\n 'REB',\n 'REB_PCT',\n 'REB_per_possession',\n 'REB_totals',\n 'STL',\n 'STL_per_possession',\n 'STL_totals',\n 'Season',\n 'TD3',\n 'TEAM_ABBREVIATION',\n 'TOV',\n 'TOV_per_possession',\n 'TOV_totals',\n 'TS_PCT',\n 'W_PCT'}"
     },
     "execution_count": 21,
     "metadata": {},
     "output_type": "execute_result"
    }
   ],
   "source": [
    "set(df_manip.columns)"
   ],
   "metadata": {
    "collapsed": false,
    "ExecuteTime": {
     "end_time": "2024-03-10T19:06:14.439180Z",
     "start_time": "2024-03-10T19:06:14.420232Z"
    }
   },
   "id": "5cba331ca18f300f",
   "execution_count": 21
  },
  {
   "cell_type": "code",
   "outputs": [],
   "source": [
    "import os"
   ],
   "metadata": {
    "collapsed": false,
    "ExecuteTime": {
     "end_time": "2024-03-10T19:17:01.221052Z",
     "start_time": "2024-03-10T19:17:01.213071Z"
    }
   },
   "id": "e7a8418223ac06c9",
   "execution_count": 22
  },
  {
   "cell_type": "code",
   "outputs": [
    {
     "data": {
      "text/plain": "'C:\\\\Users\\\\Eyad\\\\DataspellProjects\\\\422Final'"
     },
     "execution_count": 23,
     "metadata": {},
     "output_type": "execute_result"
    }
   ],
   "source": [
    "os.getcwd()"
   ],
   "metadata": {
    "collapsed": false,
    "ExecuteTime": {
     "end_time": "2024-03-10T19:17:22.676861Z",
     "start_time": "2024-03-10T19:17:22.664893Z"
    }
   },
   "id": "53600f5975a3cf4a",
   "execution_count": 23
  }
 ],
 "metadata": {
  "kernelspec": {
   "display_name": "Python 3",
   "language": "python",
   "name": "python3"
  },
  "language_info": {
   "codemirror_mode": {
    "name": "ipython",
    "version": 2
   },
   "file_extension": ".py",
   "mimetype": "text/x-python",
   "name": "python",
   "nbconvert_exporter": "python",
   "pygments_lexer": "ipython2",
   "version": "2.7.6"
  }
 },
 "nbformat": 4,
 "nbformat_minor": 5
}
