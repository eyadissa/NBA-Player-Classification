{
 "cells": [
  {
   "cell_type": "code",
   "execution_count": 30,
   "id": "initial_id",
   "metadata": {
    "collapsed": true,
    "ExecuteTime": {
     "end_time": "2024-03-13T00:05:06.124366Z",
     "start_time": "2024-03-13T00:05:06.105418Z"
    }
   },
   "outputs": [],
   "source": [
    "from sklearn.preprocessing import MinMaxScaler\n",
    "from ydata_profiling import ProfileReport\n",
    "import scipy\n",
    "import numpy as np\n",
    "import sklearn as sk\n",
    "from sklearn.impute import SimpleImputer\n",
    "import matplotlib.pyplot as plt"
   ]
  },
  {
   "cell_type": "code",
   "execution_count": 17,
   "id": "59f220a68d57c475",
   "metadata": {
    "collapsed": false,
    "ExecuteTime": {
     "end_time": "2024-03-12T23:43:50.936864Z",
     "start_time": "2024-03-12T23:43:50.845990Z"
    }
   },
   "outputs": [],
   "source": [
    "import sweetviz as sv"
   ]
  },
  {
   "cell_type": "code",
   "execution_count": 2,
   "id": "9096bde1ee2e89f4",
   "metadata": {
    "collapsed": false,
    "ExecuteTime": {
     "end_time": "2024-03-12T23:01:08.817687Z",
     "start_time": "2024-03-12T23:01:08.806733Z"
    }
   },
   "outputs": [],
   "source": [
    "from sklearn.preprocessing import MinMaxScaler"
   ]
  },
  {
   "cell_type": "code",
   "outputs": [],
   "source": [
    "from metric_learn import LFDA"
   ],
   "metadata": {
    "collapsed": false,
    "ExecuteTime": {
     "end_time": "2024-03-13T00:45:43.103298Z",
     "start_time": "2024-03-13T00:45:42.811079Z"
    }
   },
   "id": "664a6133ce04e0ab",
   "execution_count": 55
  },
  {
   "cell_type": "code",
   "outputs": [
    {
     "data": {
      "text/plain": "[Empty DataFrame\n Columns: [PLAYER_ID, PLAYER_NAME, NICKNAME, TEAM_ID, TEAM_ABBREVIATION, AGE, GP, W, L, W_PCT, MIN, FGM, FGA, FG_PCT, FG3M, FG3A, FG3_PCT, FTM, FTA, FT_PCT, OREB, DREB, REB, AST, TOV, STL, BLK, BLKA, PF, PFD, PTS, PLUS_MINUS, NBA_FANTASY_PTS, DD2, TD3, WNBA_FANTASY_PTS, GP_RANK, W_RANK, L_RANK, W_PCT_RANK, MIN_RANK, FGM_RANK, FGA_RANK, FG_PCT_RANK, FG3M_RANK, FG3A_RANK, FG3_PCT_RANK, FTM_RANK, FTA_RANK, FT_PCT_RANK, OREB_RANK, DREB_RANK, REB_RANK, AST_RANK, TOV_RANK, STL_RANK, BLK_RANK, BLKA_RANK, PF_RANK, PFD_RANK, PTS_RANK, PLUS_MINUS_RANK, NBA_FANTASY_PTS_RANK, DD2_RANK, TD3_RANK, WNBA_FANTASY_PTS_RANK]\n Index: []\n \n [0 rows x 66 columns]]"
     },
     "execution_count": 89,
     "metadata": {},
     "output_type": "execute_result"
    }
   ],
   "source": [
    "\"\"\"\n",
    "NOT WORKING, RETURNS EMPTY DATAFRAME\n",
    "from nba_api.stats.endpoints import leaguedashplayerstats\n",
    "leaguedashplayerstats.LeagueDashPlayerStats(\n",
    "    season=2019-20,\n",
    "    per_mode_detailed=\"PerGame\",\n",
    "    measure_type_detailed_defense='Base'\n",
    ").get_data_frames()\n",
    "\"\"\""
   ],
   "metadata": {
    "collapsed": false,
    "ExecuteTime": {
     "end_time": "2024-03-13T03:45:46.867851Z",
     "start_time": "2024-03-13T03:45:45.529030Z"
    }
   },
   "id": "35cb04577fbc9aa9",
   "execution_count": 89
  },
  {
   "cell_type": "code",
   "outputs": [],
   "source": [
    "import pandas as pd\n",
    "        \n",
    "MSDS_422_FinalProject_Individual_Stats = pd.read_csv('../data/MSDS_422_FinalProject_Individual_Stats.csv')\n",
    "\n",
    "df_full=MSDS_422_FinalProject_Individual_Stats\n"
   ],
   "metadata": {
    "collapsed": false,
    "ExecuteTime": {
     "end_time": "2024-03-13T03:57:14.993690Z",
     "start_time": "2024-03-13T03:57:14.888941Z"
    }
   },
   "id": "1a551270bb73afa3",
   "execution_count": 99
  },
  {
   "cell_type": "code",
   "execution_count": 100,
   "id": "2e996d0dd709cf61",
   "metadata": {
    "collapsed": false,
    "ExecuteTime": {
     "end_time": "2024-03-13T03:57:17.538891Z",
     "start_time": "2024-03-13T03:57:17.526886Z"
    }
   },
   "outputs": [
    {
     "data": {
      "text/plain": "2359"
     },
     "execution_count": 100,
     "metadata": {},
     "output_type": "execute_result"
    }
   ],
   "source": [
    "len(df_full['PLAYER_NAME'].unique().tolist())"
   ]
  },
  {
   "cell_type": "code",
   "execution_count": 40,
   "id": "7f1aad01c0616d66",
   "metadata": {
    "collapsed": false,
    "ExecuteTime": {
     "end_time": "2024-03-13T00:10:50.230697Z",
     "start_time": "2024-03-13T00:10:50.217709Z"
    }
   },
   "outputs": [],
   "source": [
    "col_names = list(df_full.columns)\n",
    "feature_col_names = list(df_full.columns)[9:]"
   ]
  },
  {
   "cell_type": "code",
   "execution_count": 37,
   "id": "8e6ddf23c3113822",
   "metadata": {
    "collapsed": false,
    "ExecuteTime": {
     "end_time": "2024-03-13T00:10:19.470336Z",
     "start_time": "2024-03-13T00:10:19.446432Z"
    }
   },
   "outputs": [],
   "source": [
    "#save the profile variables separately \n",
    "df_profiles = df_full[0:10]\n",
    "#all the columns from 9 to the end\n",
    "df_features = df_full.iloc[:,10:]"
   ]
  },
  {
   "cell_type": "code",
   "execution_count": 38,
   "id": "929f5d24db869aae",
   "metadata": {
    "collapsed": false,
    "ExecuteTime": {
     "end_time": "2024-03-13T00:10:28.613056Z",
     "start_time": "2024-03-13T00:10:28.576156Z"
    }
   },
   "outputs": [],
   "source": [
    "#impute nan values\n",
    "imputer = sk.impute.SimpleImputer(strategy='mean')\n",
    "df_features = imputer.fit_transform(df_features)"
   ]
  },
  {
   "cell_type": "code",
   "execution_count": 41,
   "id": "ffdd4b0b9c230f2b",
   "metadata": {
    "collapsed": false,
    "ExecuteTime": {
     "end_time": "2024-03-13T00:10:52.278125Z",
     "start_time": "2024-03-13T00:10:52.258180Z"
    }
   },
   "outputs": [],
   "source": [
    "feature_col_names_updated = feature_col_names[:df_features.shape[1]]\n",
    "\n",
    "# Now convert the imputed array back to a DataFrame with the correct column names\n",
    "df_features = pd.DataFrame(df_features, columns=feature_col_names_updated)"
   ]
  },
  {
   "cell_type": "code",
   "execution_count": 49,
   "id": "ee5b63458bc9748e",
   "metadata": {
    "collapsed": false,
    "ExecuteTime": {
     "end_time": "2024-03-13T00:23:49.418327Z",
     "start_time": "2024-03-13T00:23:49.400339Z"
    }
   },
   "outputs": [],
   "source": [
    "#creat an EFG Column\n",
    "df_features['EFG'] = round((df_features['FGM'] + 0.5*df_features['FG3M'])/df_features['FGA'], 4)"
   ]
  },
  {
   "cell_type": "code",
   "execution_count": null,
   "id": "63e2a7e6608868a6",
   "metadata": {
    "ExecuteTime": {
     "end_time": "2024-03-11T19:42:59.407411Z",
     "start_time": "2024-03-11T19:42:59.389464Z"
    },
    "collapsed": false
   },
   "outputs": [],
   "source": [
    "#add the target back in but we don't have our tarket get, will get it from subset modeling\n",
    "#df = pd.concat([df_full.loc[:,'W'],df_features],axis=1)"
   ]
  },
  {
   "cell_type": "code",
   "execution_count": 23,
   "id": "c664ab49470647fa",
   "metadata": {
    "collapsed": false,
    "ExecuteTime": {
     "end_time": "2024-03-12T23:54:01.333224Z",
     "start_time": "2024-03-12T23:53:14.882953Z"
    }
   },
   "outputs": [
    {
     "data": {
      "text/plain": "                                             |          | [  0%]   00:00 -> (? left)",
      "application/vnd.jupyter.widget-view+json": {
       "version_major": 2,
       "version_minor": 0,
       "model_id": "bf463d36bab54de59e29e8a2bd280b03"
      }
     },
     "metadata": {},
     "output_type": "display_data"
    }
   ],
   "source": [
    "splayer_eda = sv.analyze(df_features)"
   ]
  },
  {
   "cell_type": "code",
   "execution_count": null,
   "id": "93bea51fb3a0546c",
   "metadata": {
    "ExecuteTime": {
     "end_time": "2024-03-11T21:18:03.181798Z",
     "start_time": "2024-03-11T21:18:01.677734Z"
    },
    "collapsed": false
   },
   "outputs": [],
   "source": [
    "splayer_eda.show_html()"
   ]
  },
  {
   "cell_type": "code",
   "outputs": [
    {
     "data": {
      "text/plain": "<Figure size 480x480 with 2 Axes>",
      "image/png": "[encoded data removed]"
     },
     "metadata": {},
     "output_type": "display_data"
    }
   ],
   "source": [
    "#plot correletoins between features\n",
    "plt.matshow(df_features.corr())\n",
    "cb = plt.colorbar()\n",
    "cb.ax.tick_params(labelsize=14)\n",
    "plt.title('Correlation Matrix', fontsize=16);\n",
    "plt.show()"
   ],
   "metadata": {
    "collapsed": false,
    "ExecuteTime": {
     "end_time": "2024-03-13T00:11:00.597217Z",
     "start_time": "2024-03-13T00:11:00.225210Z"
    }
   },
   "id": "7942008b0bb5a1ab",
   "execution_count": 42
  },
  {
   "cell_type": "code",
   "execution_count": 45,
   "id": "d66a268bcee37979",
   "metadata": {
    "collapsed": false,
    "ExecuteTime": {
     "end_time": "2024-03-13T00:14:55.664246Z",
     "start_time": "2024-03-13T00:14:55.551544Z"
    }
   },
   "outputs": [],
   "source": [
    "#drop features with higher than 0.6 correlation in more than one pair\n",
    "corr=df_features.corr()\n",
    "upper = corr.where(np.triu(np.ones(corr.shape),k=1).astype(bool))\n",
    "threshold = 0.6\n",
    "to_drop = [column for column in upper.columns if sum(abs(upper[column])>threshold)>4]"
   ]
  },
  {
   "cell_type": "code",
   "execution_count": 46,
   "id": "20fb08388a169929",
   "metadata": {
    "collapsed": false,
    "ExecuteTime": {
     "end_time": "2024-03-13T00:14:58.414952Z",
     "start_time": "2024-03-13T00:14:58.392014Z"
    }
   },
   "outputs": [],
   "source": [
    "feature_subset=df_features.drop(df_features[to_drop], axis=1)\n",
    "feature_col_names = feature_subset.columns"
   ]
  },
  {
   "cell_type": "code",
   "outputs": [
    {
     "data": {
      "text/plain": "W_PCT                 0.173754\nMIN                   0.238270\nFGM                   0.228211\nFGA                   0.043844\nFG_PCT                0.119331\nFG3M                  0.135251\nFG3A                  0.046187\nFG3_PCT               0.246916\nFTM                   0.252857\nFTA                   0.037427\nFT_PCT                0.092183\nOREB                  0.252667\nDREB                  0.214511\nREB                   0.358865\nAST                   0.317001\nTOV                   0.206241\nSTL                   0.057135\nBLK                   0.159148\nBLKA                  0.101153\nPF                    0.239965\nPFD                   0.244390\nPTS                   0.120782\nPLUS_MINUS            0.369558\nDD2                   1.000000\nTD3                   0.075056\nE_OFF_RATING          0.091113\nOFF_RATING            0.091113\nsp_work_OFF_RATING    0.010026\nE_DEF_RATING          0.028146\nDEF_RATING            0.028146\nsp_work_DEF_RATING    0.050844\nE_NET_RATING          0.054407\nNET_RATING            0.054407\nsp_work_NET_RATING    0.259481\nAST_PCT               0.090916\nAST_TO                0.127444\nAST_RATIO            -0.008879\nOREB_PCT              0.108205\nDREB_PCT              0.071977\nREB_PCT               0.001570\nTM_TOV_PCT            0.000854\nE_TOV_PCT             0.040973\nEFG_PCT               0.054778\nTS_PCT                0.189449\nUSG_PCT               0.182961\nE_USG_PCT             0.055629\nE_PACE                0.018437\nPACE                  0.018440\nPACE_PER40            0.018437\nsp_work_PACE          0.129178\nPIE                   0.176506\nPOSS                  0.236294\nFGM_advanced          0.226866\nFGA_advanced          0.238270\nFGM_PG                0.228211\nFGA_PG                0.043844\nName: DD2, dtype: float64"
     },
     "execution_count": 53,
     "metadata": {},
     "output_type": "execute_result"
    }
   ],
   "source": [
    "#other drops\n",
    "to_drop_manual = ['DD2',]"
   ],
   "metadata": {
    "collapsed": false,
    "ExecuteTime": {
     "end_time": "2024-03-13T00:30:30.489839Z",
     "start_time": "2024-03-13T00:30:30.472885Z"
    }
   },
   "id": "446bcd1ada1c9a32",
   "execution_count": 53
  },
  {
   "cell_type": "code",
   "outputs": [
    {
     "data": {
      "text/plain": "<Figure size 480x480 with 2 Axes>",
      "image/png": "[encoded data removed]"
     },
     "metadata": {},
     "output_type": "display_data"
    }
   ],
   "source": [
    "plt.matshow(feature_subset.corr())\n",
    "cb = plt.colorbar()\n",
    "cb.ax.tick_params(labelsize=14)\n",
    "plt.title('Correlation Matrix', fontsize=16);\n",
    "plt.show()"
   ],
   "metadata": {
    "collapsed": false,
    "ExecuteTime": {
     "end_time": "2024-03-13T00:17:14.963471Z",
     "start_time": "2024-03-13T00:17:14.658254Z"
    }
   },
   "id": "95376bdb51eadffb",
   "execution_count": 48
  },
  {
   "cell_type": "code",
   "execution_count": 56,
   "id": "f9015b8f114628f0",
   "metadata": {
    "collapsed": false,
    "ExecuteTime": {
     "end_time": "2024-03-13T00:49:31.963179Z",
     "start_time": "2024-03-13T00:49:31.944216Z"
    }
   },
   "outputs": [],
   "source": [
    "#cast the features onto the same 0 to 1 scale\n",
    "scalar = MinMaxScaler(feature_range=(0,1))\n",
    "scaled_features = scalar.fit_transform(feature_subset)\n",
    "scaled_features = pd.DataFrame(scaled_features, columns=feature_col_names)"
   ]
  },
  {
   "cell_type": "code",
   "outputs": [
    {
     "data": {
      "text/plain": "                                             |          | [  0%]   00:00 -> (? left)",
      "application/vnd.jupyter.widget-view+json": {
       "version_major": 2,
       "version_minor": 0,
       "model_id": "44a558a11f00430c827e41a74a223c50"
      }
     },
     "metadata": {},
     "output_type": "display_data"
    }
   ],
   "source": [
    "splayer_eda = sv.analyze(scaled_features)"
   ],
   "metadata": {
    "collapsed": false,
    "ExecuteTime": {
     "end_time": "2024-03-12T23:58:28.651953Z",
     "start_time": "2024-03-12T23:58:00.093227Z"
    }
   },
   "id": "f0db0f0355b792c7",
   "execution_count": 28
  },
  {
   "cell_type": "code",
   "outputs": [
    {
     "name": "stdout",
     "output_type": "stream",
     "text": [
      "Report SWEETVIZ_REPORT.html was generated! NOTEBOOK/COLAB USERS: the web browser MAY not pop up, regardless, the report IS saved in your notebook/colab files.\n"
     ]
    }
   ],
   "source": [
    "splayer_eda.show_html()"
   ],
   "metadata": {
    "collapsed": false,
    "ExecuteTime": {
     "end_time": "2024-03-12T23:58:37.982741Z",
     "start_time": "2024-03-12T23:58:36.468757Z"
    }
   },
   "id": "d45d0ba6392c1049",
   "execution_count": 29
  },
  {
   "cell_type": "code",
   "outputs": [],
   "source": [
    "#setup a target for LDA    \n",
    "team_stats = pd.read_csv('../data/MSDS_422_FinalProject_Team_Stats_with_Four_Factors.csv')\n",
    "team_col_list=list(team_stats.columns)"
   ],
   "metadata": {
    "collapsed": false,
    "ExecuteTime": {
     "end_time": "2024-03-13T03:57:57.294648Z",
     "start_time": "2024-03-13T03:57:57.275698Z"
    }
   },
   "id": "f754535b4281f341",
   "execution_count": 102
  },
  {
   "cell_type": "code",
   "outputs": [
    {
     "data": {
      "text/plain": "['lowest']\nCategories (4, object): ['lowest' < 'low' < 'high' < 'highest']"
     },
     "execution_count": 103,
     "metadata": {},
     "output_type": "execute_result"
    }
   ],
   "source": [
    "bin_edges = [0,25,50,75,100]\n",
    "tiers = ['lowest', \"low\", 'high', 'highest']\n",
    "team_stats['WPCT_tier'] = pd.cut(team_stats['W_PCT'], bins=bin_edges, labels=tiers)\n",
    "team_stats['WPCT_tier'].unique()"
   ],
   "metadata": {
    "collapsed": false,
    "ExecuteTime": {
     "end_time": "2024-03-13T03:57:59.409431Z",
     "start_time": "2024-03-13T03:57:59.385500Z"
    }
   },
   "id": "5981283ff8230a7e",
   "execution_count": 103
  },
  {
   "cell_type": "code",
   "outputs": [
    {
     "data": {
      "text/plain": "<bound method Series.unique of 0    MIA\n1    CHI\n2    PHI\n3    NJN\n4    GSW\n5    GSW\n6    BOS\n7    IND\n8    ATL\n9    NYK\nName: TEAM_ABBREVIATION, dtype: object>"
     },
     "execution_count": 78,
     "metadata": {},
     "output_type": "execute_result"
    }
   ],
   "source": [
    "df_profiles['TEAM_ABBREVIATION'].unique"
   ],
   "metadata": {
    "collapsed": false,
    "ExecuteTime": {
     "end_time": "2024-03-13T03:08:46.189685Z",
     "start_time": "2024-03-13T03:08:46.172706Z"
    }
   },
   "id": "42bfdeb5c0d2013a",
   "execution_count": 78
  },
  {
   "cell_type": "code",
   "outputs": [
    {
     "data": {
      "text/plain": "<bound method Series.unique of 0           Atlanta Hawks\n1          Boston Celtics\n2           Brooklyn Nets\n3       Charlotte Hornets\n4           Chicago Bulls\n              ...        \n175      Sacramento Kings\n176     San Antonio Spurs\n177       Toronto Raptors\n178             Utah Jazz\n179    Washington Wizards\nName: TEAM_NAME, Length: 180, dtype: object>"
     },
     "execution_count": 74,
     "metadata": {},
     "output_type": "execute_result"
    }
   ],
   "source": [
    "team_stats['TEAM_NAME'].unique"
   ],
   "metadata": {
    "collapsed": false,
    "ExecuteTime": {
     "end_time": "2024-03-13T02:12:18.593471Z",
     "start_time": "2024-03-13T02:12:18.579509Z"
    }
   },
   "id": "b6dac53f4d4a09f9",
   "execution_count": 74
  },
  {
   "cell_type": "code",
   "outputs": [],
   "source": [
    "#ony have a subset of teams, so we need to filter for those teams in teh team_stats\n",
    "sub_team_stats = team_stats[team_stats['TEAM_ID'].isin(df_profiles['TEAM_ID'])]"
   ],
   "metadata": {
    "collapsed": false,
    "ExecuteTime": {
     "end_time": "2024-03-13T04:20:21.960218Z",
     "start_time": "2024-03-13T04:20:21.940274Z"
    }
   },
   "id": "18fd75ee729c08d",
   "execution_count": 104
  },
  {
   "cell_type": "code",
   "outputs": [
    {
     "data": {
      "text/plain": "TEAM_NAME\nAtlanta Hawks            6\nBoston Celtics           6\nBrooklyn Nets            6\nChicago Bulls            6\nGolden State Warriors    6\nIndiana Pacers           6\nMiami Heat               6\nNew York Knicks          6\nPhiladelphia 76ers       6\nName: count, dtype: int64"
     },
     "execution_count": 108,
     "metadata": {},
     "output_type": "execute_result"
    }
   ],
   "source": [
    "sub_team_stats[\"TEAM_NAME\"].value_counts() #good."
   ],
   "metadata": {
    "collapsed": false,
    "ExecuteTime": {
     "end_time": "2024-03-13T04:23:04.754208Z",
     "start_time": "2024-03-13T04:23:04.733265Z"
    }
   },
   "id": "86dc2f549c756306",
   "execution_count": 108
  },
  {
   "cell_type": "code",
   "outputs": [],
   "source": [
    "fda = LFDA(feature_subset,df_full[])"
   ],
   "metadata": {
    "collapsed": false
   },
   "id": "fb69ac857533bf9"
  },
  {
   "cell_type": "code",
   "execution_count": null,
   "id": "eb036f71ee98f5a1",
   "metadata": {
    "ExecuteTime": {
     "end_time": "2024-03-11T22:04:09.753420Z",
     "start_time": "2024-03-11T22:04:09.740788Z"
    },
    "collapsed": false
   },
   "outputs": [],
   "source": [
    "from sklearn.decomposition import PCA"
   ]
  },
  {
   "cell_type": "code",
   "execution_count": 50,
   "id": "615cce139f42f6c8",
   "metadata": {
    "ExecuteTime": {
     "end_time": "2024-03-11T22:07:57.290406Z",
     "start_time": "2024-03-11T22:07:57.208495Z"
    },
    "collapsed": false
   },
   "outputs": [
    {
     "data": {
      "text/html": [
       "<style>#sk-container-id-2 {\n",
       "  /* Definition of color scheme common for light and dark mode */\n",
       "  --sklearn-color-text: black;\n",
       "  --sklearn-color-line: gray;\n",
       "  /* Definition of color scheme for unfitted estimators */\n",
       "  --sklearn-color-unfitted-level-0: #fff5e6;\n",
       "  --sklearn-color-unfitted-level-1: #f6e4d2;\n",
       "  --sklearn-color-unfitted-level-2: #ffe0b3;\n",
       "  --sklearn-color-unfitted-level-3: chocolate;\n",
       "  /* Definition of color scheme for fitted estimators */\n",
       "  --sklearn-color-fitted-level-0: #f0f8ff;\n",
       "  --sklearn-color-fitted-level-1: #d4ebff;\n",
       "  --sklearn-color-fitted-level-2: #b3dbfd;\n",
       "  --sklearn-color-fitted-level-3: cornflowerblue;\n",
       "\n",
       "  /* Specific color for light theme */\n",
       "  --sklearn-color-text-on-default-background: var(--sg-text-color, var(--theme-code-foreground, var(--jp-content-font-color1, black)));\n",
       "  --sklearn-color-background: var(--sg-background-color, var(--theme-background, var(--jp-layout-color0, white)));\n",
       "  --sklearn-color-border-box: var(--sg-text-color, var(--theme-code-foreground, var(--jp-content-font-color1, black)));\n",
       "  --sklearn-color-icon: #696969;\n",
       "\n",
       "  @media (prefers-color-scheme: dark) {\n",
       "    /* Redefinition of color scheme for dark theme */\n",
       "    --sklearn-color-text-on-default-background: var(--sg-text-color, var(--theme-code-foreground, var(--jp-content-font-color1, white)));\n",
       "    --sklearn-color-background: var(--sg-background-color, var(--theme-background, var(--jp-layout-color0, #111)));\n",
       "    --sklearn-color-border-box: var(--sg-text-color, var(--theme-code-foreground, var(--jp-content-font-color1, white)));\n",
       "    --sklearn-color-icon: #878787;\n",
       "  }\n",
       "}\n",
       "\n",
       "#sk-container-id-2 {\n",
       "  color: var(--sklearn-color-text);\n",
       "}\n",
       "\n",
       "#sk-container-id-2 pre {\n",
       "  padding: 0;\n",
       "}\n",
       "\n",
       "#sk-container-id-2 input.sk-hidden--visually {\n",
       "  border: 0;\n",
       "  clip: rect(1px 1px 1px 1px);\n",
       "  clip: rect(1px, 1px, 1px, 1px);\n",
       "  height: 1px;\n",
       "  margin: -1px;\n",
       "  overflow: hidden;\n",
       "  padding: 0;\n",
       "  position: absolute;\n",
       "  width: 1px;\n",
       "}\n",
       "\n",
       "#sk-container-id-2 div.sk-dashed-wrapped {\n",
       "  border: 1px dashed var(--sklearn-color-line);\n",
       "  margin: 0 0.4em 0.5em 0.4em;\n",
       "  box-sizing: border-box;\n",
       "  padding-bottom: 0.4em;\n",
       "  background-color: var(--sklearn-color-background);\n",
       "}\n",
       "\n",
       "#sk-container-id-2 div.sk-container {\n",
       "  /* jupyter's `normalize.less` sets `[hidden] { display: none; }`\n",
       "     but bootstrap.min.css set `[hidden] { display: none !important; }`\n",
       "     so we also need the `!important` here to be able to override the\n",
       "     default hidden behavior on the sphinx rendered scikit-learn.org.\n",
       "     See: https://github.com/scikit-learn/scikit-learn/issues/21755 */\n",
       "  display: inline-block !important;\n",
       "  position: relative;\n",
       "}\n",
       "\n",
       "#sk-container-id-2 div.sk-text-repr-fallback {\n",
       "  display: none;\n",
       "}\n",
       "\n",
       "div.sk-parallel-item,\n",
       "div.sk-serial,\n",
       "div.sk-item {\n",
       "  /* draw centered vertical line to link estimators */\n",
       "  background-image: linear-gradient(var(--sklearn-color-text-on-default-background), var(--sklearn-color-text-on-default-background));\n",
       "  background-size: 2px 100%;\n",
       "  background-repeat: no-repeat;\n",
       "  background-position: center center;\n",
       "}\n",
       "\n",
       "/* Parallel-specific style estimator block */\n",
       "\n",
       "#sk-container-id-2 div.sk-parallel-item::after {\n",
       "  content: \"\";\n",
       "  width: 100%;\n",
       "  border-bottom: 2px solid var(--sklearn-color-text-on-default-background);\n",
       "  flex-grow: 1;\n",
       "}\n",
       "\n",
       "#sk-container-id-2 div.sk-parallel {\n",
       "  display: flex;\n",
       "  align-items: stretch;\n",
       "  justify-content: center;\n",
       "  background-color: var(--sklearn-color-background);\n",
       "  position: relative;\n",
       "}\n",
       "\n",
       "#sk-container-id-2 div.sk-parallel-item {\n",
       "  display: flex;\n",
       "  flex-direction: column;\n",
       "}\n",
       "\n",
       "#sk-container-id-2 div.sk-parallel-item:first-child::after {\n",
       "  align-self: flex-end;\n",
       "  width: 50%;\n",
       "}\n",
       "\n",
       "#sk-container-id-2 div.sk-parallel-item:last-child::after {\n",
       "  align-self: flex-start;\n",
       "  width: 50%;\n",
       "}\n",
       "\n",
       "#sk-container-id-2 div.sk-parallel-item:only-child::after {\n",
       "  width: 0;\n",
       "}\n",
       "\n",
       "/* Serial-specific style estimator block */\n",
       "\n",
       "#sk-container-id-2 div.sk-serial {\n",
       "  display: flex;\n",
       "  flex-direction: column;\n",
       "  align-items: center;\n",
       "  background-color: var(--sklearn-color-background);\n",
       "  padding-right: 1em;\n",
       "  padding-left: 1em;\n",
       "}\n",
       "\n",
       "\n",
       "/* Toggleable style: style used for estimator/Pipeline/ColumnTransformer box that is\n",
       "clickable and can be expanded/collapsed.\n",
       "- Pipeline and ColumnTransformer use this feature and define the default style\n",
       "- Estimators will overwrite some part of the style using the `sk-estimator` class\n",
       "*/\n",
       "\n",
       "/* Pipeline and ColumnTransformer style (default) */\n",
       "\n",
       "#sk-container-id-2 div.sk-toggleable {\n",
       "  /* Default theme specific background. It is overwritten whether we have a\n",
       "  specific estimator or a Pipeline/ColumnTransformer */\n",
       "  background-color: var(--sklearn-color-background);\n",
       "}\n",
       "\n",
       "/* Toggleable label */\n",
       "#sk-container-id-2 label.sk-toggleable__label {\n",
       "  cursor: pointer;\n",
       "  display: block;\n",
       "  width: 100%;\n",
       "  margin-bottom: 0;\n",
       "  padding: 0.5em;\n",
       "  box-sizing: border-box;\n",
       "  text-align: center;\n",
       "}\n",
       "\n",
       "#sk-container-id-2 label.sk-toggleable__label-arrow:before {\n",
       "  /* Arrow on the left of the label */\n",
       "  content: \"▸\";\n",
       "  float: left;\n",
       "  margin-right: 0.25em;\n",
       "  color: var(--sklearn-color-icon);\n",
       "}\n",
       "\n",
       "#sk-container-id-2 label.sk-toggleable__label-arrow:hover:before {\n",
       "  color: var(--sklearn-color-text);\n",
       "}\n",
       "\n",
       "/* Toggleable content - dropdown */\n",
       "\n",
       "#sk-container-id-2 div.sk-toggleable__content {\n",
       "  max-height: 0;\n",
       "  max-width: 0;\n",
       "  overflow: hidden;\n",
       "  text-align: left;\n",
       "  /* unfitted */\n",
       "  background-color: var(--sklearn-color-unfitted-level-0);\n",
       "}\n",
       "\n",
       "#sk-container-id-2 div.sk-toggleable__content.fitted {\n",
       "  /* fitted */\n",
       "  background-color: var(--sklearn-color-fitted-level-0);\n",
       "}\n",
       "\n",
       "#sk-container-id-2 div.sk-toggleable__content pre {\n",
       "  margin: 0.2em;\n",
       "  border-radius: 0.25em;\n",
       "  color: var(--sklearn-color-text);\n",
       "  /* unfitted */\n",
       "  background-color: var(--sklearn-color-unfitted-level-0);\n",
       "}\n",
       "\n",
       "#sk-container-id-2 div.sk-toggleable__content.fitted pre {\n",
       "  /* unfitted */\n",
       "  background-color: var(--sklearn-color-fitted-level-0);\n",
       "}\n",
       "\n",
       "#sk-container-id-2 input.sk-toggleable__control:checked~div.sk-toggleable__content {\n",
       "  /* Expand drop-down */\n",
       "  max-height: 200px;\n",
       "  max-width: 100%;\n",
       "  overflow: auto;\n",
       "}\n",
       "\n",
       "#sk-container-id-2 input.sk-toggleable__control:checked~label.sk-toggleable__label-arrow:before {\n",
       "  content: \"▾\";\n",
       "}\n",
       "\n",
       "/* Pipeline/ColumnTransformer-specific style */\n",
       "\n",
       "#sk-container-id-2 div.sk-label input.sk-toggleable__control:checked~label.sk-toggleable__label {\n",
       "  color: var(--sklearn-color-text);\n",
       "  background-color: var(--sklearn-color-unfitted-level-2);\n",
       "}\n",
       "\n",
       "#sk-container-id-2 div.sk-label.fitted input.sk-toggleable__control:checked~label.sk-toggleable__label {\n",
       "  background-color: var(--sklearn-color-fitted-level-2);\n",
       "}\n",
       "\n",
       "/* Estimator-specific style */\n",
       "\n",
       "/* Colorize estimator box */\n",
       "#sk-container-id-2 div.sk-estimator input.sk-toggleable__control:checked~label.sk-toggleable__label {\n",
       "  /* unfitted */\n",
       "  background-color: var(--sklearn-color-unfitted-level-2);\n",
       "}\n",
       "\n",
       "#sk-container-id-2 div.sk-estimator.fitted input.sk-toggleable__control:checked~label.sk-toggleable__label {\n",
       "  /* fitted */\n",
       "  background-color: var(--sklearn-color-fitted-level-2);\n",
       "}\n",
       "\n",
       "#sk-container-id-2 div.sk-label label.sk-toggleable__label,\n",
       "#sk-container-id-2 div.sk-label label {\n",
       "  /* The background is the default theme color */\n",
       "  color: var(--sklearn-color-text-on-default-background);\n",
       "}\n",
       "\n",
       "/* On hover, darken the color of the background */\n",
       "#sk-container-id-2 div.sk-label:hover label.sk-toggleable__label {\n",
       "  color: var(--sklearn-color-text);\n",
       "  background-color: var(--sklearn-color-unfitted-level-2);\n",
       "}\n",
       "\n",
       "/* Label box, darken color on hover, fitted */\n",
       "#sk-container-id-2 div.sk-label.fitted:hover label.sk-toggleable__label.fitted {\n",
       "  color: var(--sklearn-color-text);\n",
       "  background-color: var(--sklearn-color-fitted-level-2);\n",
       "}\n",
       "\n",
       "/* Estimator label */\n",
       "\n",
       "#sk-container-id-2 div.sk-label label {\n",
       "  font-family: monospace;\n",
       "  font-weight: bold;\n",
       "  display: inline-block;\n",
       "  line-height: 1.2em;\n",
       "}\n",
       "\n",
       "#sk-container-id-2 div.sk-label-container {\n",
       "  text-align: center;\n",
       "}\n",
       "\n",
       "/* Estimator-specific */\n",
       "#sk-container-id-2 div.sk-estimator {\n",
       "  font-family: monospace;\n",
       "  border: 1px dotted var(--sklearn-color-border-box);\n",
       "  border-radius: 0.25em;\n",
       "  box-sizing: border-box;\n",
       "  margin-bottom: 0.5em;\n",
       "  /* unfitted */\n",
       "  background-color: var(--sklearn-color-unfitted-level-0);\n",
       "}\n",
       "\n",
       "#sk-container-id-2 div.sk-estimator.fitted {\n",
       "  /* fitted */\n",
       "  background-color: var(--sklearn-color-fitted-level-0);\n",
       "}\n",
       "\n",
       "/* on hover */\n",
       "#sk-container-id-2 div.sk-estimator:hover {\n",
       "  /* unfitted */\n",
       "  background-color: var(--sklearn-color-unfitted-level-2);\n",
       "}\n",
       "\n",
       "#sk-container-id-2 div.sk-estimator.fitted:hover {\n",
       "  /* fitted */\n",
       "  background-color: var(--sklearn-color-fitted-level-2);\n",
       "}\n",
       "\n",
       "/* Specification for estimator info (e.g. \"i\" and \"?\") */\n",
       "\n",
       "/* Common style for \"i\" and \"?\" */\n",
       "\n",
       ".sk-estimator-doc-link,\n",
       "a:link.sk-estimator-doc-link,\n",
       "a:visited.sk-estimator-doc-link {\n",
       "  float: right;\n",
       "  font-size: smaller;\n",
       "  line-height: 1em;\n",
       "  font-family: monospace;\n",
       "  background-color: var(--sklearn-color-background);\n",
       "  border-radius: 1em;\n",
       "  height: 1em;\n",
       "  width: 1em;\n",
       "  text-decoration: none !important;\n",
       "  margin-left: 1ex;\n",
       "  /* unfitted */\n",
       "  border: var(--sklearn-color-unfitted-level-1) 1pt solid;\n",
       "  color: var(--sklearn-color-unfitted-level-1);\n",
       "}\n",
       "\n",
       ".sk-estimator-doc-link.fitted,\n",
       "a:link.sk-estimator-doc-link.fitted,\n",
       "a:visited.sk-estimator-doc-link.fitted {\n",
       "  /* fitted */\n",
       "  border: var(--sklearn-color-fitted-level-1) 1pt solid;\n",
       "  color: var(--sklearn-color-fitted-level-1);\n",
       "}\n",
       "\n",
       "/* On hover */\n",
       "div.sk-estimator:hover .sk-estimator-doc-link:hover,\n",
       ".sk-estimator-doc-link:hover,\n",
       "div.sk-label-container:hover .sk-estimator-doc-link:hover,\n",
       ".sk-estimator-doc-link:hover {\n",
       "  /* unfitted */\n",
       "  background-color: var(--sklearn-color-unfitted-level-3);\n",
       "  color: var(--sklearn-color-background);\n",
       "  text-decoration: none;\n",
       "}\n",
       "\n",
       "div.sk-estimator.fitted:hover .sk-estimator-doc-link.fitted:hover,\n",
       ".sk-estimator-doc-link.fitted:hover,\n",
       "div.sk-label-container:hover .sk-estimator-doc-link.fitted:hover,\n",
       ".sk-estimator-doc-link.fitted:hover {\n",
       "  /* fitted */\n",
       "  background-color: var(--sklearn-color-fitted-level-3);\n",
       "  color: var(--sklearn-color-background);\n",
       "  text-decoration: none;\n",
       "}\n",
       "\n",
       "/* Span, style for the box shown on hovering the info icon */\n",
       ".sk-estimator-doc-link span {\n",
       "  display: none;\n",
       "  z-index: 9999;\n",
       "  position: relative;\n",
       "  font-weight: normal;\n",
       "  right: .2ex;\n",
       "  padding: .5ex;\n",
       "  margin: .5ex;\n",
       "  width: min-content;\n",
       "  min-width: 20ex;\n",
       "  max-width: 50ex;\n",
       "  color: var(--sklearn-color-text);\n",
       "  box-shadow: 2pt 2pt 4pt #999;\n",
       "  /* unfitted */\n",
       "  background: var(--sklearn-color-unfitted-level-0);\n",
       "  border: .5pt solid var(--sklearn-color-unfitted-level-3);\n",
       "}\n",
       "\n",
       ".sk-estimator-doc-link.fitted span {\n",
       "  /* fitted */\n",
       "  background: var(--sklearn-color-fitted-level-0);\n",
       "  border: var(--sklearn-color-fitted-level-3);\n",
       "}\n",
       "\n",
       ".sk-estimator-doc-link:hover span {\n",
       "  display: block;\n",
       "}\n",
       "\n",
       "/* \"?\"-specific style due to the `<a>` HTML tag */\n",
       "\n",
       "#sk-container-id-2 a.estimator_doc_link {\n",
       "  float: right;\n",
       "  font-size: 1rem;\n",
       "  line-height: 1em;\n",
       "  font-family: monospace;\n",
       "  background-color: var(--sklearn-color-background);\n",
       "  border-radius: 1rem;\n",
       "  height: 1rem;\n",
       "  width: 1rem;\n",
       "  text-decoration: none;\n",
       "  /* unfitted */\n",
       "  color: var(--sklearn-color-unfitted-level-1);\n",
       "  border: var(--sklearn-color-unfitted-level-1) 1pt solid;\n",
       "}\n",
       "\n",
       "#sk-container-id-2 a.estimator_doc_link.fitted {\n",
       "  /* fitted */\n",
       "  border: var(--sklearn-color-fitted-level-1) 1pt solid;\n",
       "  color: var(--sklearn-color-fitted-level-1);\n",
       "}\n",
       "\n",
       "/* On hover */\n",
       "#sk-container-id-2 a.estimator_doc_link:hover {\n",
       "  /* unfitted */\n",
       "  background-color: var(--sklearn-color-unfitted-level-3);\n",
       "  color: var(--sklearn-color-background);\n",
       "  text-decoration: none;\n",
       "}\n",
       "\n",
       "#sk-container-id-2 a.estimator_doc_link.fitted:hover {\n",
       "  /* fitted */\n",
       "  background-color: var(--sklearn-color-fitted-level-3);\n",
       "}\n",
       "</style><div id=\"sk-container-id-2\" class=\"sk-top-container\"><div class=\"sk-text-repr-fallback\"><pre>PCA()</pre><b>In a Jupyter environment, please rerun this cell to show the HTML representation or trust the notebook. <br />On GitHub, the HTML representation is unable to render, please try loading this page with nbviewer.org.</b></div><div class=\"sk-container\" hidden><div class=\"sk-item\"><div class=\"sk-estimator fitted sk-toggleable\"><input class=\"sk-toggleable__control sk-hidden--visually\" id=\"sk-estimator-id-2\" type=\"checkbox\" checked><label for=\"sk-estimator-id-2\" class=\"sk-toggleable__label fitted sk-toggleable__label-arrow fitted\">&nbsp;&nbsp;PCA<a class=\"sk-estimator-doc-link fitted\" rel=\"noreferrer\" target=\"_blank\" href=\"https://scikit-learn.org/1.4/modules/generated/sklearn.decomposition.PCA.html\">?<span>Documentation for PCA</span></a><span class=\"sk-estimator-doc-link fitted\">i<span>Fitted</span></span></label><div class=\"sk-toggleable__content fitted\"><pre>PCA()</pre></div> </div></div></div></div>"
      ],
      "text/plain": [
       "PCA()"
      ]
     },
     "execution_count": 50,
     "metadata": {},
     "output_type": "execute_result"
    }
   ],
   "source": [
    "#do PCA\n",
    "pca=sk.decomposition.PCA()\n",
    "pca.fit(scaled_features)\n"
   ]
  },
  {
   "cell_type": "code",
   "execution_count": 51,
   "id": "645a77cd2a04e6ca",
   "metadata": {
    "ExecuteTime": {
     "end_time": "2024-03-11T22:11:48.522382Z",
     "start_time": "2024-03-11T22:11:48.512993Z"
    },
    "collapsed": false
   },
   "outputs": [
    {
     "name": "stdout",
     "output_type": "stream",
     "text": [
      "[4.50477316e+01 1.73598953e+01 8.76022037e+00 5.99279313e+00\n",
      " 5.11496415e+00 3.36027783e+00 2.86794894e+00 2.16017226e+00\n",
      " 1.50744603e+00 1.40580313e+00 1.14099264e+00 1.05573755e+00\n",
      " 9.02161747e-01 7.00033776e-01 6.54440176e-01 4.80064467e-01\n",
      " 3.47914975e-01 2.40588616e-01 2.06484778e-01 1.37164162e-01\n",
      " 1.25690786e-01 1.07734293e-01 8.12007365e-02 6.05460897e-02\n",
      " 4.49234922e-02 3.35419347e-02 3.17941499e-02 2.09844088e-02\n",
      " 1.75439300e-02 1.41654656e-02 1.09668624e-02 7.86972331e-03\n",
      " 2.02529361e-04 3.64001384e-08 1.63540522e-09 1.63523367e-09\n",
      " 2.15471867e-11 8.28780483e-31]\n",
      "[ 45.04773158  62.40762685  71.16784721  77.16064034  82.27560449\n",
      "  85.63588232  88.50383126  90.66400352  92.17144955  93.57725268\n",
      "  94.71824532  95.77398286  96.67614461  97.37617839  98.03061856\n",
      "  98.51068303  98.858598    99.09918662  99.3056714   99.44283556\n",
      "  99.56852634  99.67626064  99.75746137  99.81800746  99.86293096\n",
      "  99.89647289  99.92826704  99.94925145  99.96679538  99.98096085\n",
      "  99.99192771  99.99979743  99.99999996 100.         100.\n",
      " 100.         100.         100.        ]\n"
     ]
    }
   ],
   "source": [
    "\n",
    "print(pca.explained_variance_ratio_*100)\n",
    "p_explained = pca.explained_variance_ratio_*100\n",
    "p_running = np.cumsum(p_explained)\n",
    "print(p_running)"
   ]
  },
  {
   "cell_type": "code",
   "execution_count": null,
   "id": "b037a9e5101e4703",
   "metadata": {
    "ExecuteTime": {
     "end_time": "2024-03-11T22:16:10.662608Z",
     "start_time": "2024-03-11T22:16:10.655627Z"
    },
    "collapsed": false
   },
   "outputs": [],
   "source": [
    "import matplotlib.pyplot as plt"
   ]
  },
  {
   "cell_type": "code",
   "execution_count": null,
   "id": "59582e926b2e292a",
   "metadata": {
    "ExecuteTime": {
     "end_time": "2024-03-11T23:03:20.187980Z",
     "start_time": "2024-03-11T23:03:20.170049Z"
    },
    "collapsed": false
   },
   "outputs": [],
   "source": [
    "# Get the feature contributions for each principal component\n",
    "topXfeatures = 8\n",
    "feature_contributions = pca.components_[:topXfeatures] "
   ]
  },
  {
   "cell_type": "code",
   "execution_count": null,
   "id": "4b491dd1915161d1",
   "metadata": {
    "ExecuteTime": {
     "end_time": "2024-03-11T22:57:50.930832Z",
     "start_time": "2024-03-11T22:57:48.323767Z"
    },
    "collapsed": false
   },
   "outputs": [],
   "source": [
    "num_components = len(feature_contributions)\n",
    "num_features = len(feature_col_names)\n",
    "fig, axes = plt.subplots(num_components, 1, figsize=(10, 6*num_components))\n",
    "\n",
    "for i in range(num_components):\n",
    "    ax = axes[i]\n",
    "    ax.bar(np.arange(num_features), feature_contributions[i], color='blue')\n",
    "    ax.set_title(f\"Principal Component {i+1} Feature Contributions\")\n",
    "    ax.set_xlabel(\"Feature Index\")\n",
    "    ax.set_ylabel(\"Contribution\")\n",
    "    ax.set_xticks(np.arange(num_features))\n",
    "    ax.set_xticklabels(feature_col_names, rotation=90)\n",
    "    \n",
    "    ax.text(0.95, 0.95, f'Variance Explained: {p_explained[i]:.2f}',\n",
    "            verticalalignment='top', horizontalalignment='right',\n",
    "            transform=ax.transAxes, fontsize=10, color='black', bbox=dict(facecolor='none', edgecolor='none'))\n",
    "    \n",
    "    #plt.savefig(f\"pc{i+1}_feature_contributions.jpg\", bbox_inches='tight', dpi=300)\n",
    "    #plt.close(fig)\n",
    "\n",
    "plt.tight_layout()\n",
    "plt.show()"
   ]
  },
  {
   "cell_type": "code",
   "execution_count": null,
   "id": "d68d77f9165376d8",
   "metadata": {
    "ExecuteTime": {
     "end_time": "2024-03-11T23:25:51.332838Z",
     "start_time": "2024-03-11T23:25:48.764582Z"
    },
    "collapsed": false
   },
   "outputs": [],
   "source": [
    "num_components = len(feature_contributions)\n",
    "num_features = len(feature_col_names)\n",
    "fig_scale=1.2\n",
    "fig, axs = plt.subplots(2, 2, figsize=(20*fig_scale, 12*fig_scale))\n",
    "#fig, axes = plt.subplots(num_components, 1, figsize=(10, 6*num_components))\n",
    "\n",
    "for i in range(num_components):\n",
    "    #ax = axes[i]\n",
    "    row = i // 2  \n",
    "    col = i % 2\n",
    "    axs[row, col].bar(np.arange(num_features), feature_contributions[i], color='blue')\n",
    "    axs[row, col].set_title(f\"Principal Component {i + 1} Feature Contributions\")\n",
    "    #axs[row, col].set_xlabel(\"Feature Index\")\n",
    "    axs[row, col].set_ylabel(\"Contribution\")\n",
    "    axs[row, col].set_xticks(np.arange(num_features))\n",
    "    if i == 2 or i == 3:\n",
    "        axs[row, col].xaxis.tick_top()\n",
    "        axs[row, col].set_xticklabels(feature_col_names, rotation=90)\n",
    "        axs[row, col].set_title(f\" \", loc='center')\n",
    "\n",
    "    axs[row, col].text(0.9, 0.9, f'Variance Explained: {p_explained[i]:.2f}',\n",
    "                       verticalalignment='top', horizontalalignment='right',\n",
    "                       transform=axs[row, col].transAxes, fontsize=10, color='black',\n",
    "                       bbox=dict(facecolor='none', edgecolor='none'))\n",
    "    \n",
    "\n",
    "\n",
    "plt.savefig(\"top4_contributions.jpg\", bbox_inches='tight', dpi=300)\n",
    "plt.close(fig)\n",
    "\n",
    "plt.show()"
   ]
  },
  {
   "cell_type": "code",
   "execution_count": 63,
   "id": "766ee15977ef7b87",
   "metadata": {
    "ExecuteTime": {
     "end_time": "2024-03-11T23:12:04.779639Z",
     "start_time": "2024-03-11T23:12:04.680903Z"
    },
    "collapsed": false
   },
   "outputs": [
    {
     "data": {
      "image/png": "[encoded data removed]",
      "text/plain": [
       "<Figure size 1000x600 with 1 Axes>"
      ]
     },
     "metadata": {},
     "output_type": "display_data"
    }
   ],
   "source": [
    "### K-Means Clustering\n",
    "\n",
    "from sklearn.cluster import KMeans\n",
    "\n",
    "clusters = pd.DataFrame(scaled_features, columns=feature_col_names)\n",
    "\n",
    "# determine the number of clusters (k)\n",
    "sse = []\n",
    "for k in range(1, 21):\n",
    "    kmeans = KMeans(n_clusters=k, random_state=42)\n",
    "    kmeans.fit(scaled_features)\n",
    "    sse.append(kmeans.inertia_)\n",
    "\n",
    "# plot SSE for each k\n",
    "plt.figure(figsize=(10, 6))\n",
    "plt.plot(range(1, 21), sse, marker='o')\n",
    "plt.title('Elbow Method')\n",
    "plt.xlabel('Number of clusters')\n",
    "plt.ylabel('SSE')\n",
    "plt.show()"
   ]
  },
  {
   "cell_type": "code",
   "execution_count": 64,
   "id": "448f87ab",
   "metadata": {},
   "outputs": [],
   "source": [
    "# apply K-Means Clustering\n",
    "k = 12\n",
    "kmeans = KMeans(n_clusters=k, random_state=42)\n",
    "cluster_labels = kmeans.fit_predict(scaled_features)\n",
    "\n",
    "clusters['Cluster_KMeans'] = cluster_labels"
   ]
  },
  {
   "cell_type": "code",
   "execution_count": null,
   "id": "bd81f989",
   "metadata": {},
   "outputs": [],
   "source": [
    "### DBScan Clustering\n",
    "\n",
    "from sklearn.cluster import DBSCAN"
   ]
  },
  {
   "cell_type": "code",
   "execution_count": 65,
   "id": "90482c39",
   "metadata": {},
   "outputs": [],
   "source": [
    "dbscan = DBSCAN(eps=0.5, min_samples=5)\n",
    "cluster_labels = dbscan.fit_predict(scaled_features)\n",
    "\n",
    "clusters['Cluster_DBSCAN'] = cluster_labels"
   ]
  },
  {
   "cell_type": "code",
   "execution_count": 66,
   "id": "515f1f70",
   "metadata": {},
   "outputs": [
    {
     "name": "stdout",
     "output_type": "stream",
     "text": [
      "Number of clusters: 14\n",
      "Number of noise points: 112\n"
     ]
    }
   ],
   "source": [
    "import numpy as np\n",
    "\n",
    "unique_clusters = np.unique(cluster_labels)\n",
    "n_noise = list(cluster_labels).count(-1)\n",
    "\n",
    "print(f\"Number of clusters: {len(unique_clusters) - (1 if -1 in unique_clusters else 0)}\")\n",
    "print(f\"Number of noise points: {n_noise}\")"
   ]
  },
  {
   "cell_type": "code",
   "execution_count": 67,
   "id": "b0c6ce9e",
   "metadata": {},
   "outputs": [],
   "source": [
    "### Hierarchical Clustering\n",
    "\n",
    "from sklearn.cluster import AgglomerativeClustering\n",
    "from scipy.cluster.hierarchy import dendrogram, linkage"
   ]
  },
  {
   "cell_type": "code",
   "execution_count": 68,
   "id": "ff4c3deb",
   "metadata": {},
   "outputs": [],
   "source": [
    "clustering = AgglomerativeClustering(distance_threshold=0, n_clusters=None, linkage='ward')\n",
    "model = clustering.fit(scaled_features)"
   ]
  },
  {
   "cell_type": "code",
   "execution_count": 69,
   "id": "3ffaa3d5",
   "metadata": {},
   "outputs": [
    {
     "data": {
      "image/png": "[encoded data removed]",
      "text/plain": [
       "<Figure size 1200x700 with 1 Axes>"
      ]
     },
     "metadata": {},
     "output_type": "display_data"
    }
   ],
   "source": [
    "Z = linkage(scaled_features, 'ward')\n",
    "\n",
    "#plot the dendrogram\n",
    "plt.figure(figsize=(12, 7))\n",
    "dendrogram(Z, no_labels=True)\n",
    "plt.title(\"Hierarchical Clustering Dendrogram\")\n",
    "plt.xlabel(\"Sample index\")\n",
    "plt.ylabel(\"Distance\")\n",
    "plt.show()\n"
   ]
  },
  {
   "cell_type": "code",
   "execution_count": 70,
   "id": "09b2c6f6",
   "metadata": {},
   "outputs": [],
   "source": [
    "n_clusters = 10\n",
    "clustering = AgglomerativeClustering(n_clusters=n_clusters, linkage='ward')\n",
    "cluster_labels = clustering.fit_predict(scaled_features)\n",
    "\n",
    "clusters['Cluster_Hierarchical'] = cluster_labels"
   ]
  },
  {
   "cell_type": "code",
   "execution_count": 71,
   "id": "58c51742",
   "metadata": {},
   "outputs": [
    {
     "data": {
      "text/html": [
       "<div>\n",
       "<style scoped>\n",
       "    .dataframe tbody tr th:only-of-type {\n",
       "        vertical-align: middle;\n",
       "    }\n",
       "\n",
       "    .dataframe tbody tr th {\n",
       "        vertical-align: top;\n",
       "    }\n",
       "\n",
       "    .dataframe thead th {\n",
       "        text-align: right;\n",
       "    }\n",
       "</style>\n",
       "<table border=\"1\" class=\"dataframe\">\n",
       "  <thead>\n",
       "    <tr style=\"text-align: right;\">\n",
       "      <th></th>\n",
       "      <th>W_PCT</th>\n",
       "      <th>MIN</th>\n",
       "      <th>FGM</th>\n",
       "      <th>FGA</th>\n",
       "      <th>FG_PCT</th>\n",
       "      <th>FG3M</th>\n",
       "      <th>FG3A</th>\n",
       "      <th>FG3_PCT</th>\n",
       "      <th>FTM</th>\n",
       "      <th>FTA</th>\n",
       "      <th>...</th>\n",
       "      <th>EFG_PCT</th>\n",
       "      <th>E_USG_PCT</th>\n",
       "      <th>E_PACE</th>\n",
       "      <th>PACE</th>\n",
       "      <th>PACE_PER40</th>\n",
       "      <th>sp_work_PACE</th>\n",
       "      <th>FGA_PG</th>\n",
       "      <th>Cluster_KMeans</th>\n",
       "      <th>Cluster_DBSCAN</th>\n",
       "      <th>Cluster_Hierarchical</th>\n",
       "    </tr>\n",
       "  </thead>\n",
       "  <tbody>\n",
       "    <tr>\n",
       "      <th>0</th>\n",
       "      <td>0.392202</td>\n",
       "      <td>0.147541</td>\n",
       "      <td>0.143885</td>\n",
       "      <td>0.444</td>\n",
       "      <td>0.000000</td>\n",
       "      <td>0.007576</td>\n",
       "      <td>0.000</td>\n",
       "      <td>0.095238</td>\n",
       "      <td>0.106870</td>\n",
       "      <td>0.712</td>\n",
       "      <td>...</td>\n",
       "      <td>0.328000</td>\n",
       "      <td>0.347907</td>\n",
       "      <td>0.072507</td>\n",
       "      <td>0.072520</td>\n",
       "      <td>0.072507</td>\n",
       "      <td>0.734698</td>\n",
       "      <td>0.444</td>\n",
       "      <td>3</td>\n",
       "      <td>0</td>\n",
       "      <td>3</td>\n",
       "    </tr>\n",
       "    <tr>\n",
       "      <th>1</th>\n",
       "      <td>0.433486</td>\n",
       "      <td>0.196721</td>\n",
       "      <td>0.208633</td>\n",
       "      <td>0.406</td>\n",
       "      <td>0.150943</td>\n",
       "      <td>0.159091</td>\n",
       "      <td>0.391</td>\n",
       "      <td>0.047619</td>\n",
       "      <td>0.038168</td>\n",
       "      <td>0.833</td>\n",
       "      <td>...</td>\n",
       "      <td>0.330000</td>\n",
       "      <td>0.349538</td>\n",
       "      <td>0.071908</td>\n",
       "      <td>0.071922</td>\n",
       "      <td>0.071908</td>\n",
       "      <td>0.730749</td>\n",
       "      <td>0.406</td>\n",
       "      <td>1</td>\n",
       "      <td>1</td>\n",
       "      <td>5</td>\n",
       "    </tr>\n",
       "    <tr>\n",
       "      <th>2</th>\n",
       "      <td>0.720183</td>\n",
       "      <td>0.360656</td>\n",
       "      <td>0.338129</td>\n",
       "      <td>0.473</td>\n",
       "      <td>0.132075</td>\n",
       "      <td>0.166667</td>\n",
       "      <td>0.312</td>\n",
       "      <td>0.190476</td>\n",
       "      <td>0.198473</td>\n",
       "      <td>0.768</td>\n",
       "      <td>...</td>\n",
       "      <td>0.366000</td>\n",
       "      <td>0.361653</td>\n",
       "      <td>0.081820</td>\n",
       "      <td>0.081820</td>\n",
       "      <td>0.081820</td>\n",
       "      <td>0.739365</td>\n",
       "      <td>0.473</td>\n",
       "      <td>5</td>\n",
       "      <td>2</td>\n",
       "      <td>6</td>\n",
       "    </tr>\n",
       "    <tr>\n",
       "      <th>3</th>\n",
       "      <td>0.651376</td>\n",
       "      <td>0.295082</td>\n",
       "      <td>0.284173</td>\n",
       "      <td>0.457</td>\n",
       "      <td>0.000000</td>\n",
       "      <td>0.000000</td>\n",
       "      <td>0.000</td>\n",
       "      <td>0.285714</td>\n",
       "      <td>0.290076</td>\n",
       "      <td>0.787</td>\n",
       "      <td>...</td>\n",
       "      <td>0.355333</td>\n",
       "      <td>0.362973</td>\n",
       "      <td>0.082252</td>\n",
       "      <td>0.082259</td>\n",
       "      <td>0.082252</td>\n",
       "      <td>0.735057</td>\n",
       "      <td>0.457</td>\n",
       "      <td>2</td>\n",
       "      <td>3</td>\n",
       "      <td>7</td>\n",
       "    </tr>\n",
       "    <tr>\n",
       "      <th>4</th>\n",
       "      <td>0.286697</td>\n",
       "      <td>0.081967</td>\n",
       "      <td>0.086331</td>\n",
       "      <td>0.403</td>\n",
       "      <td>0.000000</td>\n",
       "      <td>0.000000</td>\n",
       "      <td>0.333</td>\n",
       "      <td>0.057143</td>\n",
       "      <td>0.068702</td>\n",
       "      <td>0.619</td>\n",
       "      <td>...</td>\n",
       "      <td>0.300000</td>\n",
       "      <td>0.369147</td>\n",
       "      <td>0.088539</td>\n",
       "      <td>0.088525</td>\n",
       "      <td>0.088539</td>\n",
       "      <td>0.728056</td>\n",
       "      <td>0.403</td>\n",
       "      <td>9</td>\n",
       "      <td>4</td>\n",
       "      <td>1</td>\n",
       "    </tr>\n",
       "    <tr>\n",
       "      <th>5</th>\n",
       "      <td>0.575688</td>\n",
       "      <td>0.221311</td>\n",
       "      <td>0.233813</td>\n",
       "      <td>0.416</td>\n",
       "      <td>0.000000</td>\n",
       "      <td>0.000000</td>\n",
       "      <td>0.000</td>\n",
       "      <td>0.047619</td>\n",
       "      <td>0.091603</td>\n",
       "      <td>0.441</td>\n",
       "      <td>...</td>\n",
       "      <td>0.281333</td>\n",
       "      <td>0.373612</td>\n",
       "      <td>0.091432</td>\n",
       "      <td>0.091439</td>\n",
       "      <td>0.091432</td>\n",
       "      <td>0.731467</td>\n",
       "      <td>0.416</td>\n",
       "      <td>2</td>\n",
       "      <td>3</td>\n",
       "      <td>7</td>\n",
       "    </tr>\n",
       "    <tr>\n",
       "      <th>6</th>\n",
       "      <td>0.192661</td>\n",
       "      <td>0.065574</td>\n",
       "      <td>0.079137</td>\n",
       "      <td>0.340</td>\n",
       "      <td>0.037736</td>\n",
       "      <td>0.045455</td>\n",
       "      <td>0.346</td>\n",
       "      <td>0.038095</td>\n",
       "      <td>0.038168</td>\n",
       "      <td>0.750</td>\n",
       "      <td>...</td>\n",
       "      <td>0.288000</td>\n",
       "      <td>0.364914</td>\n",
       "      <td>0.096654</td>\n",
       "      <td>0.096667</td>\n",
       "      <td>0.096654</td>\n",
       "      <td>0.731826</td>\n",
       "      <td>0.340</td>\n",
       "      <td>9</td>\n",
       "      <td>4</td>\n",
       "      <td>1</td>\n",
       "    </tr>\n",
       "    <tr>\n",
       "      <th>7</th>\n",
       "      <td>0.555046</td>\n",
       "      <td>0.254098</td>\n",
       "      <td>0.251799</td>\n",
       "      <td>0.444</td>\n",
       "      <td>0.000000</td>\n",
       "      <td>0.007576</td>\n",
       "      <td>0.143</td>\n",
       "      <td>0.123810</td>\n",
       "      <td>0.152672</td>\n",
       "      <td>0.656</td>\n",
       "      <td>...</td>\n",
       "      <td>0.319333</td>\n",
       "      <td>0.357731</td>\n",
       "      <td>0.078461</td>\n",
       "      <td>0.078467</td>\n",
       "      <td>0.078461</td>\n",
       "      <td>0.730390</td>\n",
       "      <td>0.444</td>\n",
       "      <td>7</td>\n",
       "      <td>5</td>\n",
       "      <td>2</td>\n",
       "    </tr>\n",
       "    <tr>\n",
       "      <th>8</th>\n",
       "      <td>0.566514</td>\n",
       "      <td>0.336066</td>\n",
       "      <td>0.330935</td>\n",
       "      <td>0.444</td>\n",
       "      <td>0.000000</td>\n",
       "      <td>0.000000</td>\n",
       "      <td>0.000</td>\n",
       "      <td>0.228571</td>\n",
       "      <td>0.282443</td>\n",
       "      <td>0.638</td>\n",
       "      <td>...</td>\n",
       "      <td>0.324667</td>\n",
       "      <td>0.368098</td>\n",
       "      <td>0.087208</td>\n",
       "      <td>0.087208</td>\n",
       "      <td>0.087208</td>\n",
       "      <td>0.732544</td>\n",
       "      <td>0.444</td>\n",
       "      <td>2</td>\n",
       "      <td>3</td>\n",
       "      <td>7</td>\n",
       "    </tr>\n",
       "    <tr>\n",
       "      <th>9</th>\n",
       "      <td>0.837156</td>\n",
       "      <td>0.565574</td>\n",
       "      <td>0.557554</td>\n",
       "      <td>0.449</td>\n",
       "      <td>0.226415</td>\n",
       "      <td>0.242424</td>\n",
       "      <td>0.381</td>\n",
       "      <td>0.342857</td>\n",
       "      <td>0.297710</td>\n",
       "      <td>0.909</td>\n",
       "      <td>...</td>\n",
       "      <td>0.362000</td>\n",
       "      <td>0.346898</td>\n",
       "      <td>0.066653</td>\n",
       "      <td>0.066693</td>\n",
       "      <td>0.066653</td>\n",
       "      <td>0.739006</td>\n",
       "      <td>0.449</td>\n",
       "      <td>10</td>\n",
       "      <td>6</td>\n",
       "      <td>0</td>\n",
       "    </tr>\n",
       "    <tr>\n",
       "      <th>10</th>\n",
       "      <td>0.958716</td>\n",
       "      <td>0.877049</td>\n",
       "      <td>0.917266</td>\n",
       "      <td>0.420</td>\n",
       "      <td>0.264151</td>\n",
       "      <td>0.325758</td>\n",
       "      <td>0.320</td>\n",
       "      <td>0.780952</td>\n",
       "      <td>0.770992</td>\n",
       "      <td>0.814</td>\n",
       "      <td>...</td>\n",
       "      <td>0.345333</td>\n",
       "      <td>0.366856</td>\n",
       "      <td>0.084315</td>\n",
       "      <td>0.084295</td>\n",
       "      <td>0.084315</td>\n",
       "      <td>0.745827</td>\n",
       "      <td>0.420</td>\n",
       "      <td>8</td>\n",
       "      <td>7</td>\n",
       "      <td>2</td>\n",
       "    </tr>\n",
       "    <tr>\n",
       "      <th>11</th>\n",
       "      <td>0.536697</td>\n",
       "      <td>0.459016</td>\n",
       "      <td>0.388489</td>\n",
       "      <td>0.518</td>\n",
       "      <td>0.000000</td>\n",
       "      <td>0.007576</td>\n",
       "      <td>0.000</td>\n",
       "      <td>0.228571</td>\n",
       "      <td>0.320611</td>\n",
       "      <td>0.564</td>\n",
       "      <td>...</td>\n",
       "      <td>0.357333</td>\n",
       "      <td>0.348295</td>\n",
       "      <td>0.072208</td>\n",
       "      <td>0.072241</td>\n",
       "      <td>0.072208</td>\n",
       "      <td>0.749417</td>\n",
       "      <td>0.518</td>\n",
       "      <td>4</td>\n",
       "      <td>8</td>\n",
       "      <td>4</td>\n",
       "    </tr>\n",
       "    <tr>\n",
       "      <th>12</th>\n",
       "      <td>0.667431</td>\n",
       "      <td>0.327869</td>\n",
       "      <td>0.338129</td>\n",
       "      <td>0.430</td>\n",
       "      <td>0.075472</td>\n",
       "      <td>0.098485</td>\n",
       "      <td>0.306</td>\n",
       "      <td>0.123810</td>\n",
       "      <td>0.137405</td>\n",
       "      <td>0.752</td>\n",
       "      <td>...</td>\n",
       "      <td>0.322000</td>\n",
       "      <td>0.365963</td>\n",
       "      <td>0.083583</td>\n",
       "      <td>0.083576</td>\n",
       "      <td>0.083583</td>\n",
       "      <td>0.736313</td>\n",
       "      <td>0.430</td>\n",
       "      <td>5</td>\n",
       "      <td>2</td>\n",
       "      <td>6</td>\n",
       "    </tr>\n",
       "    <tr>\n",
       "      <th>13</th>\n",
       "      <td>0.793578</td>\n",
       "      <td>0.450820</td>\n",
       "      <td>0.438849</td>\n",
       "      <td>0.452</td>\n",
       "      <td>0.037736</td>\n",
       "      <td>0.060606</td>\n",
       "      <td>0.266</td>\n",
       "      <td>0.438095</td>\n",
       "      <td>0.419847</td>\n",
       "      <td>0.833</td>\n",
       "      <td>...</td>\n",
       "      <td>0.360667</td>\n",
       "      <td>0.366079</td>\n",
       "      <td>0.081554</td>\n",
       "      <td>0.081581</td>\n",
       "      <td>0.081554</td>\n",
       "      <td>0.743493</td>\n",
       "      <td>0.452</td>\n",
       "      <td>5</td>\n",
       "      <td>2</td>\n",
       "      <td>6</td>\n",
       "    </tr>\n",
       "    <tr>\n",
       "      <th>14</th>\n",
       "      <td>0.305046</td>\n",
       "      <td>0.131148</td>\n",
       "      <td>0.104317</td>\n",
       "      <td>0.554</td>\n",
       "      <td>0.000000</td>\n",
       "      <td>0.000000</td>\n",
       "      <td>0.000</td>\n",
       "      <td>0.066667</td>\n",
       "      <td>0.091603</td>\n",
       "      <td>0.573</td>\n",
       "      <td>...</td>\n",
       "      <td>0.380000</td>\n",
       "      <td>0.372292</td>\n",
       "      <td>0.089636</td>\n",
       "      <td>0.089643</td>\n",
       "      <td>0.089636</td>\n",
       "      <td>0.728774</td>\n",
       "      <td>0.554</td>\n",
       "      <td>2</td>\n",
       "      <td>3</td>\n",
       "      <td>7</td>\n",
       "    </tr>\n",
       "    <tr>\n",
       "      <th>15</th>\n",
       "      <td>0.011468</td>\n",
       "      <td>0.000000</td>\n",
       "      <td>0.000000</td>\n",
       "      <td>0.000</td>\n",
       "      <td>0.000000</td>\n",
       "      <td>0.000000</td>\n",
       "      <td>0.000</td>\n",
       "      <td>0.000000</td>\n",
       "      <td>0.000000</td>\n",
       "      <td>0.000</td>\n",
       "      <td>...</td>\n",
       "      <td>0.000000</td>\n",
       "      <td>0.168906</td>\n",
       "      <td>0.061332</td>\n",
       "      <td>0.061345</td>\n",
       "      <td>0.061332</td>\n",
       "      <td>0.718004</td>\n",
       "      <td>0.000</td>\n",
       "      <td>11</td>\n",
       "      <td>9</td>\n",
       "      <td>0</td>\n",
       "    </tr>\n",
       "    <tr>\n",
       "      <th>16</th>\n",
       "      <td>0.630734</td>\n",
       "      <td>0.311475</td>\n",
       "      <td>0.323741</td>\n",
       "      <td>0.417</td>\n",
       "      <td>0.094340</td>\n",
       "      <td>0.151515</td>\n",
       "      <td>0.250</td>\n",
       "      <td>0.171429</td>\n",
       "      <td>0.213740</td>\n",
       "      <td>0.636</td>\n",
       "      <td>...</td>\n",
       "      <td>0.318000</td>\n",
       "      <td>0.379475</td>\n",
       "      <td>0.093993</td>\n",
       "      <td>0.093993</td>\n",
       "      <td>0.093993</td>\n",
       "      <td>0.738647</td>\n",
       "      <td>0.417</td>\n",
       "      <td>5</td>\n",
       "      <td>2</td>\n",
       "      <td>6</td>\n",
       "    </tr>\n",
       "    <tr>\n",
       "      <th>17</th>\n",
       "      <td>0.947248</td>\n",
       "      <td>0.803279</td>\n",
       "      <td>0.794964</td>\n",
       "      <td>0.442</td>\n",
       "      <td>0.150943</td>\n",
       "      <td>0.189394</td>\n",
       "      <td>0.302</td>\n",
       "      <td>0.447619</td>\n",
       "      <td>0.496183</td>\n",
       "      <td>0.715</td>\n",
       "      <td>...</td>\n",
       "      <td>0.332667</td>\n",
       "      <td>0.376796</td>\n",
       "      <td>0.092031</td>\n",
       "      <td>0.092038</td>\n",
       "      <td>0.092031</td>\n",
       "      <td>0.739185</td>\n",
       "      <td>0.442</td>\n",
       "      <td>4</td>\n",
       "      <td>8</td>\n",
       "      <td>4</td>\n",
       "    </tr>\n",
       "    <tr>\n",
       "      <th>18</th>\n",
       "      <td>0.518349</td>\n",
       "      <td>0.221311</td>\n",
       "      <td>0.241007</td>\n",
       "      <td>0.406</td>\n",
       "      <td>0.018868</td>\n",
       "      <td>0.045455</td>\n",
       "      <td>0.150</td>\n",
       "      <td>0.085714</td>\n",
       "      <td>0.106870</td>\n",
       "      <td>0.631</td>\n",
       "      <td>...</td>\n",
       "      <td>0.292667</td>\n",
       "      <td>0.348412</td>\n",
       "      <td>0.072075</td>\n",
       "      <td>0.072081</td>\n",
       "      <td>0.072075</td>\n",
       "      <td>0.733621</td>\n",
       "      <td>0.406</td>\n",
       "      <td>5</td>\n",
       "      <td>2</td>\n",
       "      <td>6</td>\n",
       "    </tr>\n",
       "    <tr>\n",
       "      <th>19</th>\n",
       "      <td>0.227064</td>\n",
       "      <td>0.122951</td>\n",
       "      <td>0.143885</td>\n",
       "      <td>0.375</td>\n",
       "      <td>0.094340</td>\n",
       "      <td>0.128788</td>\n",
       "      <td>0.265</td>\n",
       "      <td>0.066667</td>\n",
       "      <td>0.068702</td>\n",
       "      <td>0.765</td>\n",
       "      <td>...</td>\n",
       "      <td>0.312667</td>\n",
       "      <td>0.369807</td>\n",
       "      <td>0.089969</td>\n",
       "      <td>0.089962</td>\n",
       "      <td>0.089969</td>\n",
       "      <td>0.732723</td>\n",
       "      <td>0.375</td>\n",
       "      <td>9</td>\n",
       "      <td>4</td>\n",
       "      <td>1</td>\n",
       "    </tr>\n",
       "  </tbody>\n",
       "</table>\n",
       "<p>20 rows × 41 columns</p>\n",
       "</div>"
      ],
      "text/plain": [
       "       W_PCT       MIN       FGM    FGA    FG_PCT      FG3M   FG3A   FG3_PCT  \\\n",
       "0   0.392202  0.147541  0.143885  0.444  0.000000  0.007576  0.000  0.095238   \n",
       "1   0.433486  0.196721  0.208633  0.406  0.150943  0.159091  0.391  0.047619   \n",
       "2   0.720183  0.360656  0.338129  0.473  0.132075  0.166667  0.312  0.190476   \n",
       "3   0.651376  0.295082  0.284173  0.457  0.000000  0.000000  0.000  0.285714   \n",
       "4   0.286697  0.081967  0.086331  0.403  0.000000  0.000000  0.333  0.057143   \n",
       "5   0.575688  0.221311  0.233813  0.416  0.000000  0.000000  0.000  0.047619   \n",
       "6   0.192661  0.065574  0.079137  0.340  0.037736  0.045455  0.346  0.038095   \n",
       "7   0.555046  0.254098  0.251799  0.444  0.000000  0.007576  0.143  0.123810   \n",
       "8   0.566514  0.336066  0.330935  0.444  0.000000  0.000000  0.000  0.228571   \n",
       "9   0.837156  0.565574  0.557554  0.449  0.226415  0.242424  0.381  0.342857   \n",
       "10  0.958716  0.877049  0.917266  0.420  0.264151  0.325758  0.320  0.780952   \n",
       "11  0.536697  0.459016  0.388489  0.518  0.000000  0.007576  0.000  0.228571   \n",
       "12  0.667431  0.327869  0.338129  0.430  0.075472  0.098485  0.306  0.123810   \n",
       "13  0.793578  0.450820  0.438849  0.452  0.037736  0.060606  0.266  0.438095   \n",
       "14  0.305046  0.131148  0.104317  0.554  0.000000  0.000000  0.000  0.066667   \n",
       "15  0.011468  0.000000  0.000000  0.000  0.000000  0.000000  0.000  0.000000   \n",
       "16  0.630734  0.311475  0.323741  0.417  0.094340  0.151515  0.250  0.171429   \n",
       "17  0.947248  0.803279  0.794964  0.442  0.150943  0.189394  0.302  0.447619   \n",
       "18  0.518349  0.221311  0.241007  0.406  0.018868  0.045455  0.150  0.085714   \n",
       "19  0.227064  0.122951  0.143885  0.375  0.094340  0.128788  0.265  0.066667   \n",
       "\n",
       "         FTM    FTA  ...   EFG_PCT  E_USG_PCT    E_PACE      PACE  PACE_PER40  \\\n",
       "0   0.106870  0.712  ...  0.328000   0.347907  0.072507  0.072520    0.072507   \n",
       "1   0.038168  0.833  ...  0.330000   0.349538  0.071908  0.071922    0.071908   \n",
       "2   0.198473  0.768  ...  0.366000   0.361653  0.081820  0.081820    0.081820   \n",
       "3   0.290076  0.787  ...  0.355333   0.362973  0.082252  0.082259    0.082252   \n",
       "4   0.068702  0.619  ...  0.300000   0.369147  0.088539  0.088525    0.088539   \n",
       "5   0.091603  0.441  ...  0.281333   0.373612  0.091432  0.091439    0.091432   \n",
       "6   0.038168  0.750  ...  0.288000   0.364914  0.096654  0.096667    0.096654   \n",
       "7   0.152672  0.656  ...  0.319333   0.357731  0.078461  0.078467    0.078461   \n",
       "8   0.282443  0.638  ...  0.324667   0.368098  0.087208  0.087208    0.087208   \n",
       "9   0.297710  0.909  ...  0.362000   0.346898  0.066653  0.066693    0.066653   \n",
       "10  0.770992  0.814  ...  0.345333   0.366856  0.084315  0.084295    0.084315   \n",
       "11  0.320611  0.564  ...  0.357333   0.348295  0.072208  0.072241    0.072208   \n",
       "12  0.137405  0.752  ...  0.322000   0.365963  0.083583  0.083576    0.083583   \n",
       "13  0.419847  0.833  ...  0.360667   0.366079  0.081554  0.081581    0.081554   \n",
       "14  0.091603  0.573  ...  0.380000   0.372292  0.089636  0.089643    0.089636   \n",
       "15  0.000000  0.000  ...  0.000000   0.168906  0.061332  0.061345    0.061332   \n",
       "16  0.213740  0.636  ...  0.318000   0.379475  0.093993  0.093993    0.093993   \n",
       "17  0.496183  0.715  ...  0.332667   0.376796  0.092031  0.092038    0.092031   \n",
       "18  0.106870  0.631  ...  0.292667   0.348412  0.072075  0.072081    0.072075   \n",
       "19  0.068702  0.765  ...  0.312667   0.369807  0.089969  0.089962    0.089969   \n",
       "\n",
       "    sp_work_PACE  FGA_PG  Cluster_KMeans  Cluster_DBSCAN  Cluster_Hierarchical  \n",
       "0       0.734698   0.444               3               0                     3  \n",
       "1       0.730749   0.406               1               1                     5  \n",
       "2       0.739365   0.473               5               2                     6  \n",
       "3       0.735057   0.457               2               3                     7  \n",
       "4       0.728056   0.403               9               4                     1  \n",
       "5       0.731467   0.416               2               3                     7  \n",
       "6       0.731826   0.340               9               4                     1  \n",
       "7       0.730390   0.444               7               5                     2  \n",
       "8       0.732544   0.444               2               3                     7  \n",
       "9       0.739006   0.449              10               6                     0  \n",
       "10      0.745827   0.420               8               7                     2  \n",
       "11      0.749417   0.518               4               8                     4  \n",
       "12      0.736313   0.430               5               2                     6  \n",
       "13      0.743493   0.452               5               2                     6  \n",
       "14      0.728774   0.554               2               3                     7  \n",
       "15      0.718004   0.000              11               9                     0  \n",
       "16      0.738647   0.417               5               2                     6  \n",
       "17      0.739185   0.442               4               8                     4  \n",
       "18      0.733621   0.406               5               2                     6  \n",
       "19      0.732723   0.375               9               4                     1  \n",
       "\n",
       "[20 rows x 41 columns]"
      ]
     },
     "execution_count": 71,
     "metadata": {},
     "output_type": "execute_result"
    }
   ],
   "source": [
    "clusters.head(20)"
   ]
  },
  {
   "cell_type": "code",
   "execution_count": 72,
   "id": "990033f6",
   "metadata": {},
   "outputs": [
    {
     "data": {
      "text/html": [
       "<div>\n",
       "<style scoped>\n",
       "    .dataframe tbody tr th:only-of-type {\n",
       "        vertical-align: middle;\n",
       "    }\n",
       "\n",
       "    .dataframe tbody tr th {\n",
       "        vertical-align: top;\n",
       "    }\n",
       "\n",
       "    .dataframe thead th {\n",
       "        text-align: right;\n",
       "    }\n",
       "</style>\n",
       "<table border=\"1\" class=\"dataframe\">\n",
       "  <thead>\n",
       "    <tr style=\"text-align: right;\">\n",
       "      <th>Metric</th>\n",
       "      <th>Silhouette Score</th>\n",
       "      <th>Calinski-Harabasz Index</th>\n",
       "      <th>Davies-Bouldin Index</th>\n",
       "    </tr>\n",
       "  </thead>\n",
       "  <tbody>\n",
       "    <tr>\n",
       "      <th>K-Means</th>\n",
       "      <td>0.808442</td>\n",
       "      <td>26887.498530</td>\n",
       "      <td>0.861021</td>\n",
       "    </tr>\n",
       "    <tr>\n",
       "      <th>DBSCAN</th>\n",
       "      <td>0.821957</td>\n",
       "      <td>55927.122162</td>\n",
       "      <td>0.797005</td>\n",
       "    </tr>\n",
       "    <tr>\n",
       "      <th>Hierarchical</th>\n",
       "      <td>0.771651</td>\n",
       "      <td>50169.704489</td>\n",
       "      <td>0.360620</td>\n",
       "    </tr>\n",
       "  </tbody>\n",
       "</table>\n",
       "</div>"
      ],
      "text/plain": [
       "Metric        Silhouette Score  Calinski-Harabasz Index  Davies-Bouldin Index\n",
       "K-Means               0.808442             26887.498530              0.861021\n",
       "DBSCAN                0.821957             55927.122162              0.797005\n",
       "Hierarchical          0.771651             50169.704489              0.360620"
      ]
     },
     "execution_count": 72,
     "metadata": {},
     "output_type": "execute_result"
    }
   ],
   "source": [
    "from sklearn.metrics import silhouette_score, calinski_harabasz_score, davies_bouldin_score\n",
    "\n",
    "#calculate metrics for all three models\n",
    "silhouette_kmeans = silhouette_score(scaled_features, clusters['Cluster_KMeans'])\n",
    "calinski_harabasz_kmeans = calinski_harabasz_score(scaled_features, clusters['Cluster_KMeans'])\n",
    "davies_bouldin_kmeans = davies_bouldin_score(scaled_features, clusters['Cluster_KMeans'])\n",
    "\n",
    "silhouette_dbscan = silhouette_score(scaled_features, clusters['Cluster_DBSCAN'])\n",
    "calinski_harabasz_dbscan = calinski_harabasz_score(scaled_features, clusters['Cluster_DBSCAN'])\n",
    "davies_bouldin_dbscan = davies_bouldin_score(scaled_features, clusters['Cluster_DBSCAN'])\n",
    "\n",
    "silhouette_hierarchical = silhouette_score(scaled_features, clusters['Cluster_Hierarchical'])\n",
    "calinski_harabasz_hierarchical = calinski_harabasz_score(scaled_features, clusters['Cluster_Hierarchical'])\n",
    "davies_bouldin_hierarchical = davies_bouldin_score(scaled_features, clusters['Cluster_Hierarchical'])\n",
    "\n",
    "#put metrics into digestible table\n",
    "metrics_df = pd.DataFrame({\n",
    "    'Metric': ['Silhouette Score', 'Calinski-Harabasz Index', 'Davies-Bouldin Index'],\n",
    "    'K-Means': [silhouette_kmeans, calinski_harabasz_kmeans, davies_bouldin_kmeans],\n",
    "    'DBSCAN': [silhouette_dbscan, calinski_harabasz_dbscan, davies_bouldin_dbscan],\n",
    "    'Hierarchical': [silhouette_hierarchical, calinski_harabasz_hierarchical, davies_bouldin_hierarchical]})\n",
    "\n",
    "metrics_df = metrics_df.set_index('Metric').T\n",
    "metrics_df\n"
   ]
  },
  {
   "cell_type": "markdown",
   "id": "57a6e3d4",
   "metadata": {},
   "source": [
    "In general, for each of the metrics:\n",
    "    -Silhouette Scores range from -1 to 1, with higher scores indicating that objects are well matched to their own clusters and not neighboring clusters\n",
    "    -Calinski-Harabasz Index ratios that are higher indicate better defined clusters, as it is the ratio of the sum of between-cluster dispersion and within-cluster dispersion\n",
    "    -Davies-Bouldin Index measure that is lower, as it is the average similarity of each cluster with its most similar cluster\n",
    "\n",
    "All three models perform fairly well, but DBSCAN performs exceptionally well across all metrics, particularly in the Silhouette Score and Calinski-Harabasz Index. This indicates good cluster cohesion and separation, as well as cluster definition. Hierarchical Clustering metrics show mixed results, but in general, has well defined separations. K-Means clustering shows cohesive clusters, but they might not be as well defined as the other models or as distinctly serarated. Therefore, if we were to choose a model based on the results of this testing, DBMEANS would be appropriate."
   ]
  }
 ],
 "metadata": {
  "kernelspec": {
   "display_name": "Python 3",
   "language": "python",
   "name": "python3"
  },
  "language_info": {
   "codemirror_mode": {
    "name": "ipython",
    "version": 3
   },
   "file_extension": ".py",
   "mimetype": "text/x-python",
   "name": "python",
   "nbconvert_exporter": "python",
   "pygments_lexer": "ipython3",
   "version": "3.9.13"
  }
 },
 "nbformat": 4,
 "nbformat_minor": 5
}
